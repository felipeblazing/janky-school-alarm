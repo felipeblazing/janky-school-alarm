{
 "cells": [
  {
   "cell_type": "code",
   "execution_count": null,
   "metadata": {},
   "outputs": [],
   "source": [
    "import http.server\n",
    "import socketserver\n",
    "import threading\n",
    "import json\n",
    "from urllib.parse import unquote\n",
    "\n",
    "\n",
    "import pygame\n",
    "from datetime import datetime, timedelta\n",
    "pygame.init()\n",
    "pygame.mixer.music.load(\"flight.mp3\")\n",
    "\n",
    "class school_class:\n",
    "    def __init__(self,start_hour,start_minute,end_hour,end_minute,class_name):\n",
    "        self.start = datetime(1,1,1,start_hour,start_minute,0,0)\n",
    "        self.end = datetime(1,1,1,end_hour,end_minute,0,0)\n",
    "        self.playing = False\n",
    "        self.in_session = False\n",
    "        self.name = class_name\n",
    "        \n",
    "    def __gt__(self, other):\n",
    "        return self.name > other.name or self.start > other.start or self.end > other.end\n",
    "    \n",
    "    def __lt__(self, other):\n",
    "        return self.name < other.name or self.start < other.start or self.end < other.end\n",
    "        \n",
    "    def __eq__(self, other):\n",
    "        return self.name == other.name or self.start == other.start or self.end == other.end\n",
    "\n",
    "    def toJson(self,is_current):\n",
    "        start_correct_date = datetime.now()\n",
    "        start_correct_date = start_correct_date.replace(hour=self.start.hour,minute=self.start.minute, second=self.start.second)\n",
    "        \n",
    "        end_correct_date = datetime.now()\n",
    "        end_correct_date = end_correct_date.replace(hour=self.end.hour,minute=self.end.minute,second=self.end.second)\n",
    "        \n",
    "        if is_current:\n",
    "            seconds = (end_correct_date - datetime.now()).seconds\n",
    "        else:\n",
    "            seconds = (start_correct_date - datetime.now()).seconds\n",
    "        minutes = seconds/60\n",
    "        seconds = seconds % 60\n",
    "        import math\n",
    "        if len(str(seconds)) == 1:\n",
    "            seconds = \"0\" + str(seconds)\n",
    "        else:\n",
    "            seconds = str(seconds)\n",
    "        time_left = f\"{math.floor(minutes)}:{seconds}\"\n",
    "            \n",
    "        return {\"name\":self.name, \"start\":str(start_correct_date),\"end\":str(end_correct_date),\"time_left\":time_left}\n",
    "    \n",
    "    def is_one_minute_away(self):\n",
    "        compare_date = datetime.now() + timedelta(minutes=1)\n",
    "        if(self.playing):\n",
    "            return False\n",
    "        if(compare_date.time() > self.start.time() and datetime.now().time() < self.start.time()):\n",
    "            return True\n",
    "        else:\n",
    "            return False\n",
    "    \n",
    "    def is_currently_in_class(self):\n",
    "        return (datetime.now().time() > self.start.time() and datetime.now().time() < self.end.time())\n",
    "    \n",
    "    def start_class(self):\n",
    "        pygame.mixer.music.pause()\n",
    "        self.in_session = True\n",
    "        self.playing = False\n",
    "    \n",
    "    def end_class(self):\n",
    "        self.in_session = False\n",
    "    \n",
    "    def play(self):\n",
    "        self.playing = True\n",
    "        pygame.mixer.music.rewind()\n",
    "        pygame.mixer.music.play()\n",
    "\n",
    "\n",
    "#State machi#ne that  controls what the \n",
    "#web app shows and when plays music before class\n",
    "current_class = None\n",
    "next_class = None\n",
    "\n",
    "acknowledge_button_pushed = False\n",
    "def class_loop():\n",
    "    global current_class\n",
    "    global next_class\n",
    "    global classes\n",
    "    incoming_class = None\n",
    "    import time\n",
    "    waiting_minute = False\n",
    "    while not cancelled:\n",
    "        try:\n",
    "            #setup state for next class info\n",
    "            temp_next_class = None\n",
    "            for class_in_list in classes:\n",
    "                if temp_next_class is None:\n",
    "                    if class_in_list.start.time() > datetime.now().time() :\n",
    "                        temp_next_class = class_in_list\n",
    "                else:\n",
    "                    if temp_next_class.start.time() >  class_in_list.start.time() :\n",
    "                        temp_next_class = class_in_list\n",
    "                if temp_next_class is not None:\n",
    "                    next_class = temp_next_class\n",
    "                else:\n",
    "                    next_class = None\n",
    "\n",
    "            #setup state for current class, play song when its one minute away\n",
    "            if(current_class is None and incoming_class is None):\n",
    "                for class_in_list in classes:\n",
    "                    if(class_in_list.is_one_minute_away()):\n",
    "                        class_in_list.play()\n",
    "                        incoming_class = class_in_list\n",
    "                        print(\"class is about to start\")\n",
    "                    elif(class_in_list.is_currently_in_class()):\n",
    "                        incoming_class = class_in_list #will update on the next loop but wont play song so we dont start playing music during consecutive classes\n",
    "            elif (incoming_class is not None):\n",
    "                if(incoming_class.is_currently_in_class()):\n",
    "                    print(\"class is starting\")\n",
    "                    incoming_class.start_class()\n",
    "                    current_class = incoming_class\n",
    "                    incoming_class = None\n",
    "            else:\n",
    "                if(not current_class.is_currently_in_class()):\n",
    "                    print(\"class is ending\")\n",
    "                    current_class.end_class()\n",
    "                    current_class = None    \n",
    "            time.sleep(1)\n",
    "        except:\n",
    "            print(\"error occured in loop\")\n",
    "\n",
    "#the list of classes\n",
    "def get_classes():\n",
    "    file = open(\"classes.txt\")\n",
    "    data = file.read()\n",
    "    file.close()\n",
    "\n",
    "    global classes\n",
    "    global next_class\n",
    "    global current_class\n",
    "    classes = []\n",
    "    print(\"getting classes\")\n",
    "    for line in data.split(\"\\n\"):\n",
    "        parts = line.split(\",\")\n",
    "        start = parts[0].split(\":\")\n",
    "        end = parts[1].split(\":\")\n",
    "        classes.append(school_class(int(start[0]), int(start[1]), int(end[0]), int(end[1]), parts[2] ))\n",
    "    next_class = None\n",
    "    current_class = None\n",
    "    print(data)\n",
    "\n",
    "get_classes()\n",
    "\n",
    "\n",
    "cancelled = False\n",
    "\n",
    "thread = threading.Thread(target=class_loop)\n",
    "thread.start()\n",
    "    \n",
    "\n",
    "def datetime_converter(o):\n",
    "    if isinstance(o, datetime.datetime):\n",
    "        return o.__str__()\n",
    "\n",
    "class MyHttpRequestHandler(http.server.SimpleHTTPRequestHandler):\n",
    "    def set_headers_json(self):\n",
    "        self.send_response(200)\n",
    "        self.send_header('Content-type', 'application/json')\n",
    "        self.end_headers()\n",
    "        \n",
    "    def set_headers_text(self):\n",
    "        self.send_response(200)\n",
    "        self.send_header('Content-type', 'text/plain')\n",
    "        self.end_headers()\n",
    "        \n",
    "    def do_HEAD(self):\n",
    "        self._set_headers()\n",
    "    \n",
    "    def do_GET(self):\n",
    "        global current_class, next_class, thread, cancelled\n",
    "        #print(self.path)\n",
    "        if self.path == '/':\n",
    "            self.path = 'index.html'\n",
    "            return http.server.SimpleHTTPRequestHandler.do_GET(self)\n",
    "        elif self.path == \"/class_state\":\n",
    "            self.set_headers_json()\n",
    "            #print(\"im here\")\n",
    "            self.wfile.write(json.dumps({\"current_class\": current_class.toJson(True) if current_class is not None else None, \"next_class\":next_class.toJson(False) if next_class is not None else None }).encode())\n",
    "            #self.send_response(200)\n",
    "        elif self.path == \"/classes.html\":\n",
    "            return http.server.SimpleHTTPRequestHandler.do_GET(self)\n",
    "        elif self.path == \"/classes\":\n",
    "            self.set_headers_text()\n",
    "            temp_file = open(\"classes.txt\")\n",
    "            data = temp_file.read()\n",
    "            temp_file.close()\n",
    "            self.wfile.write(data.encode())\n",
    "        elif self.path.startswith(\"/classes_update\"):\n",
    "            path = unquote(self.path)\n",
    "            classes_data = path.split(\"data=\")[1]\n",
    "            temp_file = open(\"classes.txt\",\"w\")\n",
    "            temp_file.write(classes_data)\n",
    "            temp_file.close()\n",
    "            get_classes()\n",
    "            self.set_headers_json()\n",
    "            self.wfile.write(json.dumps({\"status\": \"saved\"}).encode())      \n",
    "            \n",
    "\n",
    "def run_server():\n",
    "    handler_object = MyHttpRequestHandler\n",
    "    PORT = 9000\n",
    "    my_server = socketserver.TCPServer((\"\", PORT), handler_object)\n",
    "    # Stsar the server\n",
    "    my_server.serve_forever()\n",
    "    \n",
    "thread_server = threading.Thread(target=run_server)\n",
    "thread_server.start()"
   ]
  },
  {
   "cell_type": "code",
   "execution_count": null,
   "metadata": {},
   "outputs": [],
   "source": [
    "x = \"as\"\n",
    "dir(x)\n"
   ]
  },
  {
   "cell_type": "code",
   "execution_count": null,
   "metadata": {},
   "outputs": [],
   "source": [
    "get_classes()"
   ]
  },
  {
   "cell_type": "code",
   "execution_count": null,
   "metadata": {},
   "outputs": [],
   "source": [
    "!sudo service school_classes stop"
   ]
  },
  {
   "cell_type": "code",
   "execution_count": null,
   "metadata": {},
   "outputs": [],
   "source": [
    "import os\n",
    "\n",
    "import pygame\n",
    "pygame.init()\n",
    "pygame.mixer.music.load(\"flight.mp3\")\n",
    "pygame.mixer.music.play()"
   ]
  },
  {
   "cell_type": "code",
   "execution_count": null,
   "metadata": {},
   "outputs": [],
   "source": [
    "from omxplayer.player import OMXPl"
   ]
  },
  {
   "cell_type": "code",
   "execution_count": null,
   "metadata": {},
   "outputs": [],
   "source": [
    "import os\n",
    "os.system(\"omxplayer -o local flight.mp3 &\")"
   ]
  },
  {
   "cell_type": "code",
   "execution_count": null,
   "metadata": {},
   "outputs": [],
   "source": [
    "pygame.mixer"
   ]
  },
  {
   "cell_type": "code",
   "execution_count": null,
   "metadata": {},
   "outputs": [],
   "source": [
    "pygame.mixer.music"
   ]
  },
  {
   "cell_type": "code",
   "execution_count": null,
   "metadata": {},
   "outputs": [],
   "source": [
    "file = open(\"classes.txt\")\n",
    "data = file.read()\n",
    "file.close()\n",
    "classes = []\n",
    "for line in data.split(\"\\n\"):\n",
    "    parts = line.split(\",\")\n",
    "    start = parts[0].split(\":\")\n",
    "    end = parts[1].split(\":\")\n",
    "    classes.append(school_class(int(start[0]), int(start[1]), int(end[0]), int(end[1]), parts[2] ))"
   ]
  },
  {
   "cell_type": "code",
   "execution_count": null,
   "metadata": {},
   "outputs": [],
   "source": [
    "(datetime.now() + timedelta(days=1)).weekday()"
   ]
  },
  {
   "cell_type": "code",
   "execution_count": null,
   "metadata": {},
   "outputs": [],
   "source": [
    "\n",
    "start_correct_date = datetime.now()\n",
    "start_correct_date = start_correct_date.replace(hour=next_class.start.hour,minute=next_class.start.minute, second=next_class.start.second)\n",
    "\n",
    "end_correct_date = datetime.now()\n",
    "end_correct_date = end_correct_date.replace(hour=next_class.end.hour,minute=next_class.end.minute,second=next_class.end.second)\n",
    "\n",
    "seconds = (datetime.now() - start_correct_date).seconds\n",
    "minutes = seconds/60\n",
    "seconds = seconds % 60\n",
    "import math\n",
    "if len(str(seconds)) == 1:\n",
    "    seconds = \"0\" + str(seconds)\n",
    "else:\n",
    "    seconds = str(seconds)\n",
    "time_left = f\"{math.floor(minutes)}:{seconds}\"\n",
    "time_left    \n"
   ]
  },
  {
   "cell_type": "code",
   "execution_count": null,
   "metadata": {},
   "outputs": [],
   "source": []
  },
  {
   "cell_type": "code",
   "execution_count": null,
   "metadata": {},
   "outputs": [],
   "source": [
    "classes_test[0] == classes[1]"
   ]
  },
  {
   "cell_type": "code",
   "execution_count": null,
   "metadata": {},
   "outputs": [],
   "source": [
    "dir(classes_test[0])"
   ]
  },
  {
   "cell_type": "code",
   "execution_count": null,
   "metadata": {},
   "outputs": [],
   "source": [
    "(start_correct_date - datetime.now()).seconds"
   ]
  },
  {
   "cell_type": "code",
   "execution_count": null,
   "metadata": {},
   "outputs": [],
   "source": [
    "print(start_correct_date)\n",
    "datetime.now()"
   ]
  },
  {
   "cell_type": "code",
   "execution_count": null,
   "metadata": {},
   "outputs": [],
   "source": [
    "print(\"1\")"
   ]
  },
  {
   "cell_type": "code",
   "execution_count": null,
   "metadata": {},
   "outputs": [],
   "source": [
    "\n",
    "\n",
    "json.dumps({\"current_class\": current_class.toJson() if current_class is not None else None, \"next_class\":next_class.toJson() if next_class is not None else None })"
   ]
  },
  {
   "cell_type": "code",
   "execution_count": null,
   "metadata": {},
   "outputs": [],
   "source": [
    "current_class = classes[0]"
   ]
  },
  {
   "cell_type": "code",
   "execution_count": null,
   "metadata": {},
   "outputs": [],
   "source": [
    "from datetime import datetime, timedelta\n",
    "\n",
    "now = datetime.now()"
   ]
  },
  {
   "cell_type": "code",
   "execution_count": null,
   "metadata": {},
   "outputs": [],
   "source": [
    "timedelta(minutes=1)"
   ]
  },
  {
   "cell_type": "code",
   "execution_count": null,
   "metadata": {},
   "outputs": [],
   "source": []
  },
  {
   "cell_type": "raw",
   "metadata": {},
   "source": [
    "thread.join()"
   ]
  },
  {
   "cell_type": "code",
   "execution_count": null,
   "metadata": {},
   "outputs": [],
   "source": [
    "start = datetime.now()"
   ]
  },
  {
   "cell_type": "code",
   "execution_count": null,
   "metadata": {},
   "outputs": [],
   "source": [
    "seconds = 100\n",
    "minutes = seconds/60\n",
    "seconds = seconds % 60\n",
    "import math\n",
    "if len(str(seconds)) == 1:\n",
    "    seconds = \"0\" + str(seconds)\n",
    "else:\n",
    "    seconds = str(seconds)\n",
    "time_left = f\"{math.floor(minutes)}:{seconds}\"\n",
    "time_left    "
   ]
  },
  {
   "cell_type": "code",
   "execution_count": null,
   "metadata": {},
   "outputs": [],
   "source": [
    "elapsed = end - start\n",
    "elapsed.seconds"
   ]
  },
  {
   "cell_type": "code",
   "execution_count": null,
   "metadata": {},
   "outputs": [],
   "source": [
    "cancelled = True\n",
    "thread.join()"
   ]
  },
  {
   "cell_type": "code",
   "execution_count": null,
   "metadata": {},
   "outputs": [],
   "source": []
  },
  {
   "cell_type": "code",
   "execution_count": null,
   "metadata": {},
   "outputs": [],
   "source": [
    "datetime.now()"
   ]
  },
  {
   "cell_type": "code",
   "execution_count": null,
   "metadata": {},
   "outputs": [],
   "source": [
    "cancelled = True"
   ]
  },
  {
   "cell_type": "code",
   "execution_count": null,
   "metadata": {},
   "outputs": [],
   "source": [
    "for current_class in classes:\n",
    "    print(current_class.is_currently_in_class())"
   ]
  },
  {
   "cell_type": "code",
   "execution_count": null,
   "metadata": {},
   "outputs": [],
   "source": [
    "datetime.now().minute"
   ]
  },
  {
   "cell_type": "code",
   "execution_count": null,
   "metadata": {},
   "outputs": [],
   "source": [
    "x = (1,2,3)"
   ]
  },
  {
   "cell_type": "code",
   "execution_count": null,
   "metadata": {},
   "outputs": [],
   "source": [
    "x[2]"
   ]
  },
  {
   "cell_type": "code",
   "execution_count": null,
   "metadata": {},
   "outputs": [],
   "source": [
    "\n",
    "while pygame.mixer.music.get_busy() == True:\n",
    "    continue"
   ]
  },
  {
   "cell_type": "code",
   "execution_count": null,
   "metadata": {},
   "outputs": [],
   "source": []
  }
 ],
 "metadata": {
  "kernelspec": {
   "display_name": "Python 3",
   "language": "python",
   "name": "python3"
  },
  "language_info": {
   "codemirror_mode": {
    "name": "ipython",
    "version": 3
   },
   "file_extension": ".py",
   "mimetype": "text/x-python",
   "name": "python",
   "nbconvert_exporter": "python",
   "pygments_lexer": "ipython3",
   "version": "3.7.3"
  }
 },
 "nbformat": 4,
 "nbformat_minor": 4
}
