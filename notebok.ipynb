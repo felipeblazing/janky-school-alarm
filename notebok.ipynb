{
 "cells": [
  {
   "cell_type": "code",
   "execution_count": 1,
   "metadata": {},
   "outputs": [
    {
     "name": "stdout",
     "output_type": "stream",
     "text": [
      "pygame 1.9.4.post1\n",
      "Hello from the pygame community. https://www.pygame.org/contribute.html\n"
     ]
    },
    {
     "name": "stderr",
     "output_type": "stream",
     "text": [
      "127.0.0.1 - - [06/Dec/2020 16:25:31] \"GET / HTTP/1.1\" 304 -\n",
      "127.0.0.1 - - [06/Dec/2020 16:25:31] \"GET /class_state HTTP/1.1\" 200 -\n",
      "127.0.0.1 - - [06/Dec/2020 16:25:32] \"GET /class_state HTTP/1.1\" 200 -\n",
      "127.0.0.1 - - [06/Dec/2020 16:25:33] \"GET /class_state HTTP/1.1\" 200 -\n",
      "127.0.0.1 - - [06/Dec/2020 16:25:34] \"GET /class_state HTTP/1.1\" 200 -\n",
      "127.0.0.1 - - [06/Dec/2020 16:25:35] \"GET /class_state HTTP/1.1\" 200 -\n",
      "127.0.0.1 - - [06/Dec/2020 16:25:36] \"GET /class_state HTTP/1.1\" 200 -\n",
      "127.0.0.1 - - [06/Dec/2020 16:25:37] \"GET /class_state HTTP/1.1\" 200 -\n",
      "127.0.0.1 - - [06/Dec/2020 16:25:38] \"GET /class_state HTTP/1.1\" 200 -\n",
      "127.0.0.1 - - [06/Dec/2020 16:25:39] \"GET /class_state HTTP/1.1\" 200 -\n",
      "127.0.0.1 - - [06/Dec/2020 16:25:40] \"GET /class_state HTTP/1.1\" 200 -\n",
      "127.0.0.1 - - [06/Dec/2020 16:25:41] \"GET /class_state HTTP/1.1\" 200 -\n",
      "127.0.0.1 - - [06/Dec/2020 16:25:42] \"GET /class_state HTTP/1.1\" 200 -\n",
      "127.0.0.1 - - [06/Dec/2020 16:25:43] \"GET /class_state HTTP/1.1\" 200 -\n",
      "127.0.0.1 - - [06/Dec/2020 16:25:44] \"GET /class_state HTTP/1.1\" 200 -\n",
      "127.0.0.1 - - [06/Dec/2020 16:25:45] \"GET /class_state HTTP/1.1\" 200 -\n",
      "127.0.0.1 - - [06/Dec/2020 16:25:46] \"GET /class_state HTTP/1.1\" 200 -\n",
      "127.0.0.1 - - [06/Dec/2020 16:25:47] \"GET /class_state HTTP/1.1\" 200 -\n",
      "127.0.0.1 - - [06/Dec/2020 16:25:48] \"GET /class_state HTTP/1.1\" 200 -\n",
      "127.0.0.1 - - [06/Dec/2020 16:25:49] \"GET /class_state HTTP/1.1\" 200 -\n",
      "127.0.0.1 - - [06/Dec/2020 16:25:50] \"GET /class_state HTTP/1.1\" 200 -\n",
      "127.0.0.1 - - [06/Dec/2020 16:25:51] \"GET /class_state HTTP/1.1\" 200 -\n",
      "127.0.0.1 - - [06/Dec/2020 16:25:52] \"GET /class_state HTTP/1.1\" 200 -\n",
      "127.0.0.1 - - [06/Dec/2020 16:25:53] \"GET /class_state HTTP/1.1\" 200 -\n",
      "127.0.0.1 - - [06/Dec/2020 16:25:54] \"GET /class_state HTTP/1.1\" 200 -\n",
      "127.0.0.1 - - [06/Dec/2020 16:25:55] \"GET /class_state HTTP/1.1\" 200 -\n",
      "127.0.0.1 - - [06/Dec/2020 16:25:56] \"GET /class_state HTTP/1.1\" 200 -\n",
      "127.0.0.1 - - [06/Dec/2020 16:25:57] \"GET /class_state HTTP/1.1\" 200 -\n",
      "127.0.0.1 - - [06/Dec/2020 16:25:58] \"GET /class_state HTTP/1.1\" 200 -\n",
      "127.0.0.1 - - [06/Dec/2020 16:25:59] \"GET /class_state HTTP/1.1\" 200 -\n",
      "127.0.0.1 - - [06/Dec/2020 16:26:00] \"GET /class_state HTTP/1.1\" 200 -\n",
      "127.0.0.1 - - [06/Dec/2020 16:26:01] \"GET /class_state HTTP/1.1\" 200 -\n",
      "127.0.0.1 - - [06/Dec/2020 16:26:01] \"GET / HTTP/1.1\" 304 -\n",
      "127.0.0.1 - - [06/Dec/2020 16:26:01] \"GET /class_state HTTP/1.1\" 200 -\n",
      "127.0.0.1 - - [06/Dec/2020 16:26:02] \"GET /class_state HTTP/1.1\" 200 -\n",
      "127.0.0.1 - - [06/Dec/2020 16:26:03] \"GET /class_state HTTP/1.1\" 200 -\n",
      "127.0.0.1 - - [06/Dec/2020 16:26:04] \"GET /class_state HTTP/1.1\" 200 -\n",
      "127.0.0.1 - - [06/Dec/2020 16:26:05] \"GET /class_state HTTP/1.1\" 200 -\n",
      "127.0.0.1 - - [06/Dec/2020 16:26:06] \"GET /class_state HTTP/1.1\" 200 -\n",
      "127.0.0.1 - - [06/Dec/2020 16:26:07] \"GET /class_state HTTP/1.1\" 200 -\n",
      "127.0.0.1 - - [06/Dec/2020 16:26:08] \"GET /class_state HTTP/1.1\" 200 -\n",
      "127.0.0.1 - - [06/Dec/2020 16:26:09] \"GET /class_state HTTP/1.1\" 200 -\n",
      "127.0.0.1 - - [06/Dec/2020 16:26:10] \"GET /class_state HTTP/1.1\" 200 -\n",
      "127.0.0.1 - - [06/Dec/2020 16:26:11] \"GET /class_state HTTP/1.1\" 200 -\n",
      "127.0.0.1 - - [06/Dec/2020 16:26:12] \"GET /class_state HTTP/1.1\" 200 -\n",
      "127.0.0.1 - - [06/Dec/2020 16:26:13] \"GET /class_state HTTP/1.1\" 200 -\n",
      "127.0.0.1 - - [06/Dec/2020 16:26:14] \"GET /class_state HTTP/1.1\" 200 -\n",
      "127.0.0.1 - - [06/Dec/2020 16:26:15] \"GET /class_state HTTP/1.1\" 200 -\n",
      "127.0.0.1 - - [06/Dec/2020 16:26:16] \"GET /class_state HTTP/1.1\" 200 -\n",
      "127.0.0.1 - - [06/Dec/2020 16:26:17] \"GET /class_state HTTP/1.1\" 200 -\n",
      "127.0.0.1 - - [06/Dec/2020 16:26:18] \"GET /class_state HTTP/1.1\" 200 -\n",
      "127.0.0.1 - - [06/Dec/2020 16:26:19] \"GET /class_state HTTP/1.1\" 200 -\n",
      "127.0.0.1 - - [06/Dec/2020 16:26:20] \"GET /class_state HTTP/1.1\" 200 -\n",
      "127.0.0.1 - - [06/Dec/2020 16:26:21] \"GET /class_state HTTP/1.1\" 200 -\n",
      "127.0.0.1 - - [06/Dec/2020 16:26:22] \"GET /class_state HTTP/1.1\" 200 -\n",
      "127.0.0.1 - - [06/Dec/2020 16:26:23] \"GET /class_state HTTP/1.1\" 200 -\n",
      "127.0.0.1 - - [06/Dec/2020 16:26:24] \"GET /class_state HTTP/1.1\" 200 -\n",
      "127.0.0.1 - - [06/Dec/2020 16:26:25] \"GET /class_state HTTP/1.1\" 200 -\n",
      "127.0.0.1 - - [06/Dec/2020 16:26:26] \"GET /class_state HTTP/1.1\" 200 -\n",
      "127.0.0.1 - - [06/Dec/2020 16:26:27] \"GET /class_state HTTP/1.1\" 200 -\n",
      "127.0.0.1 - - [06/Dec/2020 16:26:28] \"GET /class_state HTTP/1.1\" 200 -\n",
      "127.0.0.1 - - [06/Dec/2020 16:26:29] \"GET /class_state HTTP/1.1\" 200 -\n",
      "127.0.0.1 - - [06/Dec/2020 16:26:30] \"GET /class_state HTTP/1.1\" 200 -\n"
     ]
    }
   ],
   "source": [
    "import http.server\n",
    "import socketserver\n",
    "import threading\n",
    "import json\n",
    "\n",
    "\n",
    "import pygame\n",
    "from datetime import datetime, timedelta\n",
    "pygame.init()\n",
    "pygame.mixer.music.load(\"flight.mp3\")\n",
    "\n",
    "class school_class:\n",
    "    def __init__(self,start_hour,start_minute,end_hour,end_minute,class_name):\n",
    "        self.start = datetime(1,1,1,start_hour,start_minute,0,0)\n",
    "        self.end = datetime(1,1,1,end_hour,end_minute,0,0)\n",
    "        self.playing = False\n",
    "        self.in_session = False\n",
    "        self.name = class_name\n",
    "        \n",
    "    def __gt__(self, other):\n",
    "        return self.name > other.name or self.start > other.start or self.end > other.end\n",
    "    \n",
    "    def __lt__(self, other):\n",
    "        return self.name < other.name or self.start < other.start or self.end < other.end\n",
    "        \n",
    "    def __eq__(self, other):\n",
    "        return self.name == other.name or self.start == other.start or self.end == other.end\n",
    "\n",
    "    def toJson(self,is_current):\n",
    "        start_correct_date = datetime.now()\n",
    "        start_correct_date = start_correct_date.replace(hour=self.start.hour,minute=self.start.minute, second=self.start.second)\n",
    "        \n",
    "        end_correct_date = datetime.now()\n",
    "        end_correct_date = end_correct_date.replace(hour=self.end.hour,minute=self.end.minute,second=self.end.second)\n",
    "        \n",
    "        if is_current:\n",
    "            seconds = (end_correct_date - datetime.now()).seconds\n",
    "        else:\n",
    "            seconds = (start_correct_date - datetime.now()).seconds\n",
    "        minutes = seconds/60\n",
    "        seconds = seconds % 60\n",
    "        import math\n",
    "        if len(str(seconds)) == 1:\n",
    "            seconds = \"0\" + str(seconds)\n",
    "        else:\n",
    "            seconds = str(seconds)\n",
    "        time_left = f\"{math.floor(minutes)}:{seconds}\"\n",
    "            \n",
    "        return {\"name\":self.name, \"start\":str(start_correct_date),\"end\":str(end_correct_date),\"time_left\":time_left}\n",
    "    \n",
    "    def is_one_minute_away(self):\n",
    "        compare_date = datetime.now() + timedelta(minutes=1)\n",
    "        if(self.playing):\n",
    "            return False\n",
    "        if(compare_date.time() > self.start.time() and datetime.now().time() < self.start.time()):\n",
    "            return True\n",
    "        else:\n",
    "            return False\n",
    "    \n",
    "    def is_currently_in_class(self):\n",
    "        return (datetime.now().time() > self.start.time() and datetime.now().time() < self.end.time())\n",
    "    \n",
    "    def start_class(self):\n",
    "        pygame.mixer.music.pause()\n",
    "        self.in_session = True\n",
    "        self.playing = False\n",
    "    \n",
    "    def end_class(self):\n",
    "        self.in_session = False\n",
    "    \n",
    "    def play(self):\n",
    "        self.playing = True\n",
    "        pygame.mixer.music.rewind()\n",
    "        pygame.mixer.music.play()\n",
    "\n",
    "\n",
    "#State machi#ne that  controls what the \n",
    "#web app shows and when plays music before class\n",
    "current_class = None\n",
    "next_class = None\n",
    "acknowledge_button_pushed = False\n",
    "def class_loop():\n",
    "    global current_class, next_class\n",
    "    incoming_class = None\n",
    "    import time\n",
    "    waiting_minute = False\n",
    "    while not cancelled:\n",
    "\n",
    "        #setup state for next class info\n",
    "        temp_next_class = None\n",
    "        for class_in_list in classes:\n",
    "            if temp_next_class is None:\n",
    "                if class_in_list.start.time() > datetime.now().time() :\n",
    "                    temp_next_class = class_in_list\n",
    "            else:\n",
    "                if temp_next_class.start.time() >  class_in_list.start.time() :\n",
    "                    temp_next_class = class_in_list\n",
    "            if temp_next_class is not None:\n",
    "                next_class = temp_next_class\n",
    "            else:\n",
    "                next_class = None\n",
    "    \n",
    "        #setup state for current class, play song when its one minute away\n",
    "        if(current_class is None and incoming_class is None):\n",
    "            for class_in_list in classes:\n",
    "                if(class_in_list.is_one_minute_away()):\n",
    "                    class_in_list.play()\n",
    "                    incoming_class = class_in_list\n",
    "                    print(\"class is about to start\")\n",
    "                elif(class_in_list.is_currently_in_class()):\n",
    "                    incoming_class = class_in_list #will update on the next loop but wont play song so we dont start playing music during consecutive classes\n",
    "        elif (incoming_class is not None):\n",
    "            if(incoming_class.is_currently_in_class()):\n",
    "                print(\"class is starting\")\n",
    "                incoming_class.start_class()\n",
    "                current_class = incoming_class\n",
    "                incoming_class = None\n",
    "        else:\n",
    "            if(not current_class.is_currently_in_class()):\n",
    "                print(\"class is ending\")\n",
    "                current_class.end_class()\n",
    "                current_class = None    \n",
    "        time.sleep(1)\n",
    "    \n",
    "\n",
    "#the list of classes\n",
    "file = open(\"classes.txt\")\n",
    "data = file.read()\n",
    "file.close()\n",
    "classes = []\n",
    "for line in data.split(\"\\n\"):\n",
    "    parts = line.split(\",\")\n",
    "    start = parts[0].split(\":\")\n",
    "    end = parts[1].split(\":\")\n",
    "    classes.append(school_class(int(start[0]), int(start[1]), int(end[0]), int(end[1]), parts[2] ))\n",
    "\n",
    "\n",
    "\n",
    "cancelled = False\n",
    "\n",
    "thread = threading.Thread(target=class_loop)\n",
    "thread.start()\n",
    "    \n",
    "\n",
    "def datetime_converter(o):\n",
    "    if isinstance(o, datetime.datetime):\n",
    "        return o.__str__()\n",
    "\n",
    "class MyHttpRequestHandler(http.server.SimpleHTTPRequestHandler):\n",
    "    def set_headers_json(self):\n",
    "        self.send_response(200)\n",
    "        self.send_header('Content-type', 'application/json')\n",
    "        self.end_headers()\n",
    "        \n",
    "    def do_HEAD(self):\n",
    "        self._set_headers()\n",
    "    \n",
    "    def do_GET(self):\n",
    "        global current_class, next_class\n",
    "        #print(self.path)\n",
    "        if self.path == '/':\n",
    "            self.path = 'index.html'\n",
    "            return http.server.SimpleHTTPRequestHandler.do_GET(self)\n",
    "        elif self.path == \"/class_state\":\n",
    "            self.set_headers_json()\n",
    "            #print(\"im here\")\n",
    "            self.wfile.write(json.dumps({\"current_class\": current_class.toJson(True) if current_class is not None else None, \"next_class\":next_class.toJson(False) if next_class is not None else None }).encode())\n",
    "            #self.send_response(200)\n",
    "            \n",
    "def run_server():\n",
    "    handler_object = MyHttpRequestHandler\n",
    "    PORT = 9000\n",
    "    my_server = socketserver.TCPServer((\"\", PORT), handler_object)\n",
    "    # Star the server\n",
    "    my_server.serve_forever()\n",
    "    \n",
    "thread_server = threading.Thread(target=run_server)\n",
    "thread_server.start()"
   ]
  },
  {
   "cell_type": "code",
   "execution_count": 3,
   "metadata": {},
   "outputs": [],
   "source": [
    "!sudo service school_classes restart"
   ]
  },
  {
   "cell_type": "code",
   "execution_count": 13,
   "metadata": {},
   "outputs": [],
   "source": [
    "pygame.init()\n",
    "pygame.mixer.music.load(\"flight.mp3\")\n",
    "pygame.mixer.music.play()"
   ]
  },
  {
   "cell_type": "code",
   "execution_count": null,
   "metadata": {},
   "outputs": [],
   "source": []
  },
  {
   "cell_type": "code",
   "execution_count": 10,
   "metadata": {},
   "outputs": [
    {
     "data": {
      "text/plain": [
       "<module 'pygame.mixer_music' from '/usr/lib/python3/dist-packages/pygame/mixer_music.cpython-37m-arm-linux-gnueabihf.so'>"
      ]
     },
     "execution_count": 10,
     "metadata": {},
     "output_type": "execute_result"
    },
    {
     "name": "stdout",
     "output_type": "stream",
     "text": [
      "class is about to start\n",
      "class is starting\n"
     ]
    }
   ],
   "source": [
    "pygame.mixer.music"
   ]
  },
  {
   "cell_type": "code",
   "execution_count": 12,
   "metadata": {},
   "outputs": [],
   "source": [
    "file = open(\"classes.txt\")\n",
    "data = file.read()\n",
    "file.close()\n",
    "classes = []\n",
    "for line in data.split(\"\\n\"):\n",
    "    parts = line.split(\",\")\n",
    "    start = parts[0].split(\":\")\n",
    "    end = parts[1].split(\":\")\n",
    "    classes.append(school_class(int(start[0]), int(start[1]), int(end[0]), int(end[1]), parts[2] ))"
   ]
  },
  {
   "cell_type": "code",
   "execution_count": 4,
   "metadata": {},
   "outputs": [
    {
     "data": {
      "text/plain": [
       "0"
      ]
     },
     "execution_count": 4,
     "metadata": {},
     "output_type": "execute_result"
    },
    {
     "name": "stderr",
     "output_type": "stream",
     "text": [
      "10.0.0.23 - - [06/Dec/2020 10:05:56] \"GET /class_state HTTP/1.1\" 200 -\n",
      "127.0.0.1 - - [06/Dec/2020 10:05:56] \"GET /class_state HTTP/1.1\" 200 -\n",
      "10.0.0.23 - - [06/Dec/2020 10:05:57] \"GET /class_state HTTP/1.1\" 200 -\n",
      "127.0.0.1 - - [06/Dec/2020 10:05:57] \"GET /class_state HTTP/1.1\" 200 -\n",
      "10.0.0.23 - - [06/Dec/2020 10:05:58] \"GET /class_state HTTP/1.1\" 200 -\n",
      "127.0.0.1 - - [06/Dec/2020 10:05:58] \"GET /class_state HTTP/1.1\" 200 -\n",
      "10.0.0.23 - - [06/Dec/2020 10:05:59] \"GET /class_state HTTP/1.1\" 200 -\n",
      "127.0.0.1 - - [06/Dec/2020 10:05:59] \"GET /class_state HTTP/1.1\" 200 -\n",
      "10.0.0.23 - - [06/Dec/2020 10:06:00] \"GET /class_state HTTP/1.1\" 200 -\n",
      "127.0.0.1 - - [06/Dec/2020 10:06:00] \"GET /class_state HTTP/1.1\" 200 -\n",
      "10.0.0.23 - - [06/Dec/2020 10:06:01] \"GET /class_state HTTP/1.1\" 200 -\n",
      "127.0.0.1 - - [06/Dec/2020 10:06:01] \"GET /class_state HTTP/1.1\" 200 -\n",
      "10.0.0.23 - - [06/Dec/2020 10:06:02] \"GET /class_state HTTP/1.1\" 200 -\n",
      "127.0.0.1 - - [06/Dec/2020 10:06:02] \"GET /class_state HTTP/1.1\" 200 -\n",
      "10.0.0.23 - - [06/Dec/2020 10:06:03] \"GET /class_state HTTP/1.1\" 200 -\n",
      "127.0.0.1 - - [06/Dec/2020 10:06:03] \"GET /class_state HTTP/1.1\" 200 -\n",
      "10.0.0.23 - - [06/Dec/2020 10:06:04] \"GET /class_state HTTP/1.1\" 200 -\n",
      "127.0.0.1 - - [06/Dec/2020 10:06:04] \"GET /class_state HTTP/1.1\" 200 -\n",
      "10.0.0.23 - - [06/Dec/2020 10:06:05] \"GET /class_state HTTP/1.1\" 200 -\n",
      "127.0.0.1 - - [06/Dec/2020 10:06:05] \"GET /class_state HTTP/1.1\" 200 -\n",
      "10.0.0.23 - - [06/Dec/2020 10:06:06] \"GET /class_state HTTP/1.1\" 200 -\n",
      "127.0.0.1 - - [06/Dec/2020 10:06:06] \"GET /class_state HTTP/1.1\" 200 -\n",
      "10.0.0.23 - - [06/Dec/2020 10:06:07] \"GET /class_state HTTP/1.1\" 200 -\n",
      "10.0.0.23 - - [06/Dec/2020 10:06:07] \"GET / HTTP/1.1\" 304 -\n",
      "10.0.0.23 - - [06/Dec/2020 10:06:07] \"GET /class_state HTTP/1.1\" 200 -\n",
      "127.0.0.1 - - [06/Dec/2020 10:06:07] \"GET /class_state HTTP/1.1\" 200 -\n",
      "10.0.0.23 - - [06/Dec/2020 10:06:08] \"GET /class_state HTTP/1.1\" 200 -\n",
      "127.0.0.1 - - [06/Dec/2020 10:06:08] \"GET /class_state HTTP/1.1\" 200 -\n",
      "10.0.0.23 - - [06/Dec/2020 10:06:09] \"GET /class_state HTTP/1.1\" 200 -\n",
      "127.0.0.1 - - [06/Dec/2020 10:06:09] \"GET /class_state HTTP/1.1\" 200 -\n",
      "10.0.0.23 - - [06/Dec/2020 10:06:10] \"GET /class_state HTTP/1.1\" 200 -\n",
      "127.0.0.1 - - [06/Dec/2020 10:06:10] \"GET /class_state HTTP/1.1\" 200 -\n",
      "10.0.0.23 - - [06/Dec/2020 10:06:11] \"GET /class_state HTTP/1.1\" 200 -\n",
      "127.0.0.1 - - [06/Dec/2020 10:06:11] \"GET /class_state HTTP/1.1\" 200 -\n",
      "10.0.0.23 - - [06/Dec/2020 10:06:12] \"GET /class_state HTTP/1.1\" 200 -\n",
      "127.0.0.1 - - [06/Dec/2020 10:06:12] \"GET /class_state HTTP/1.1\" 200 -\n",
      "10.0.0.23 - - [06/Dec/2020 10:06:13] \"GET /class_state HTTP/1.1\" 200 -\n",
      "127.0.0.1 - - [06/Dec/2020 10:06:13] \"GET /class_state HTTP/1.1\" 200 -\n",
      "10.0.0.23 - - [06/Dec/2020 10:06:14] \"GET /class_state HTTP/1.1\" 200 -\n",
      "127.0.0.1 - - [06/Dec/2020 10:06:14] \"GET /class_state HTTP/1.1\" 200 -\n",
      "10.0.0.23 - - [06/Dec/2020 10:06:15] \"GET /class_state HTTP/1.1\" 200 -\n",
      "127.0.0.1 - - [06/Dec/2020 10:06:15] \"GET /class_state HTTP/1.1\" 200 -\n",
      "10.0.0.23 - - [06/Dec/2020 10:06:16] \"GET /class_state HTTP/1.1\" 200 -\n",
      "127.0.0.1 - - [06/Dec/2020 10:06:16] \"GET /class_state HTTP/1.1\" 200 -\n",
      "10.0.0.23 - - [06/Dec/2020 10:06:17] \"GET /class_state HTTP/1.1\" 200 -\n",
      "127.0.0.1 - - [06/Dec/2020 10:06:17] \"GET /class_state HTTP/1.1\" 200 -\n",
      "10.0.0.23 - - [06/Dec/2020 10:06:18] \"GET /class_state HTTP/1.1\" 200 -\n",
      "127.0.0.1 - - [06/Dec/2020 10:06:18] \"GET /class_state HTTP/1.1\" 200 -\n",
      "10.0.0.23 - - [06/Dec/2020 10:06:19] \"GET /class_state HTTP/1.1\" 200 -\n",
      "127.0.0.1 - - [06/Dec/2020 10:06:19] \"GET /class_state HTTP/1.1\" 200 -\n",
      "10.0.0.23 - - [06/Dec/2020 10:06:20] \"GET /class_state HTTP/1.1\" 200 -\n",
      "127.0.0.1 - - [06/Dec/2020 10:06:20] \"GET /class_state HTTP/1.1\" 200 -\n",
      "10.0.0.23 - - [06/Dec/2020 10:06:21] \"GET /class_state HTTP/1.1\" 200 -\n",
      "127.0.0.1 - - [06/Dec/2020 10:06:21] \"GET /class_state HTTP/1.1\" 200 -\n",
      "10.0.0.23 - - [06/Dec/2020 10:06:22] \"GET /class_state HTTP/1.1\" 200 -\n",
      "127.0.0.1 - - [06/Dec/2020 10:06:22] \"GET /class_state HTTP/1.1\" 200 -\n",
      "10.0.0.23 - - [06/Dec/2020 10:06:23] \"GET /class_state HTTP/1.1\" 200 -\n",
      "127.0.0.1 - - [06/Dec/2020 10:06:23] \"GET /class_state HTTP/1.1\" 200 -\n",
      "10.0.0.23 - - [06/Dec/2020 10:06:24] \"GET /class_state HTTP/1.1\" 200 -\n",
      "127.0.0.1 - - [06/Dec/2020 10:06:24] \"GET /class_state HTTP/1.1\" 200 -\n",
      "10.0.0.23 - - [06/Dec/2020 10:06:25] \"GET /class_state HTTP/1.1\" 200 -\n",
      "127.0.0.1 - - [06/Dec/2020 10:06:25] \"GET /class_state HTTP/1.1\" 200 -\n",
      "10.0.0.23 - - [06/Dec/2020 10:06:26] \"GET /class_state HTTP/1.1\" 200 -\n",
      "127.0.0.1 - - [06/Dec/2020 10:06:26] \"GET /class_state HTTP/1.1\" 200 -\n",
      "10.0.0.23 - - [06/Dec/2020 10:06:27] \"GET /class_state HTTP/1.1\" 200 -\n",
      "127.0.0.1 - - [06/Dec/2020 10:06:27] \"GET /class_state HTTP/1.1\" 200 -\n",
      "10.0.0.23 - - [06/Dec/2020 10:06:28] \"GET /class_state HTTP/1.1\" 200 -\n",
      "127.0.0.1 - - [06/Dec/2020 10:06:28] \"GET /class_state HTTP/1.1\" 200 -\n",
      "10.0.0.23 - - [06/Dec/2020 10:06:29] \"GET /class_state HTTP/1.1\" 200 -\n",
      "127.0.0.1 - - [06/Dec/2020 10:06:29] \"GET /class_state HTTP/1.1\" 200 -\n",
      "10.0.0.23 - - [06/Dec/2020 10:06:30] \"GET /class_state HTTP/1.1\" 200 -\n",
      "127.0.0.1 - - [06/Dec/2020 10:06:30] \"GET /class_state HTTP/1.1\" 200 -\n",
      "10.0.0.23 - - [06/Dec/2020 10:06:31] \"GET /class_state HTTP/1.1\" 200 -\n",
      "127.0.0.1 - - [06/Dec/2020 10:06:31] \"GET /class_state HTTP/1.1\" 200 -\n",
      "10.0.0.23 - - [06/Dec/2020 10:06:32] \"GET /class_state HTTP/1.1\" 200 -\n",
      "127.0.0.1 - - [06/Dec/2020 10:06:32] \"GET /class_state HTTP/1.1\" 200 -\n",
      "10.0.0.23 - - [06/Dec/2020 10:06:33] \"GET /class_state HTTP/1.1\" 200 -\n",
      "127.0.0.1 - - [06/Dec/2020 10:06:33] \"GET /class_state HTTP/1.1\" 200 -\n",
      "10.0.0.23 - - [06/Dec/2020 10:06:34] \"GET /class_state HTTP/1.1\" 200 -\n",
      "127.0.0.1 - - [06/Dec/2020 10:06:34] \"GET /class_state HTTP/1.1\" 200 -\n",
      "10.0.0.23 - - [06/Dec/2020 10:06:35] \"GET /class_state HTTP/1.1\" 200 -\n",
      "127.0.0.1 - - [06/Dec/2020 10:06:35] \"GET /class_state HTTP/1.1\" 200 -\n",
      "10.0.0.23 - - [06/Dec/2020 10:06:36] \"GET /class_state HTTP/1.1\" 200 -\n",
      "127.0.0.1 - - [06/Dec/2020 10:06:36] \"GET /class_state HTTP/1.1\" 200 -\n",
      "10.0.0.23 - - [06/Dec/2020 10:06:37] \"GET /class_state HTTP/1.1\" 200 -\n",
      "10.0.0.23 - - [06/Dec/2020 10:06:37] \"GET / HTTP/1.1\" 304 -\n",
      "10.0.0.23 - - [06/Dec/2020 10:06:37] \"GET /class_state HTTP/1.1\" 200 -\n",
      "127.0.0.1 - - [06/Dec/2020 10:06:37] \"GET /class_state HTTP/1.1\" 200 -\n",
      "10.0.0.23 - - [06/Dec/2020 10:06:38] \"GET /class_state HTTP/1.1\" 200 -\n",
      "127.0.0.1 - - [06/Dec/2020 10:06:38] \"GET /class_state HTTP/1.1\" 200 -\n",
      "10.0.0.23 - - [06/Dec/2020 10:06:39] \"GET /class_state HTTP/1.1\" 200 -\n",
      "127.0.0.1 - - [06/Dec/2020 10:06:39] \"GET /class_state HTTP/1.1\" 200 -\n",
      "10.0.0.23 - - [06/Dec/2020 10:06:40] \"GET /class_state HTTP/1.1\" 200 -\n",
      "127.0.0.1 - - [06/Dec/2020 10:06:40] \"GET /class_state HTTP/1.1\" 200 -\n",
      "10.0.0.23 - - [06/Dec/2020 10:06:41] \"GET /class_state HTTP/1.1\" 200 -\n",
      "127.0.0.1 - - [06/Dec/2020 10:06:41] \"GET /class_state HTTP/1.1\" 200 -\n",
      "10.0.0.23 - - [06/Dec/2020 10:06:42] \"GET /class_state HTTP/1.1\" 200 -\n",
      "127.0.0.1 - - [06/Dec/2020 10:06:42] \"GET /class_state HTTP/1.1\" 200 -\n",
      "10.0.0.23 - - [06/Dec/2020 10:06:43] \"GET /class_state HTTP/1.1\" 200 -\n",
      "127.0.0.1 - - [06/Dec/2020 10:06:43] \"GET /class_state HTTP/1.1\" 200 -\n",
      "10.0.0.23 - - [06/Dec/2020 10:06:44] \"GET /class_state HTTP/1.1\" 200 -\n",
      "127.0.0.1 - - [06/Dec/2020 10:06:44] \"GET /class_state HTTP/1.1\" 200 -\n",
      "10.0.0.23 - - [06/Dec/2020 10:06:45] \"GET /class_state HTTP/1.1\" 200 -\n",
      "127.0.0.1 - - [06/Dec/2020 10:06:45] \"GET /class_state HTTP/1.1\" 200 -\n",
      "10.0.0.23 - - [06/Dec/2020 10:06:46] \"GET /class_state HTTP/1.1\" 200 -\n",
      "127.0.0.1 - - [06/Dec/2020 10:06:46] \"GET /class_state HTTP/1.1\" 200 -\n",
      "10.0.0.23 - - [06/Dec/2020 10:06:47] \"GET /class_state HTTP/1.1\" 200 -\n",
      "127.0.0.1 - - [06/Dec/2020 10:06:47] \"GET /class_state HTTP/1.1\" 200 -\n",
      "10.0.0.23 - - [06/Dec/2020 10:06:48] \"GET /class_state HTTP/1.1\" 200 -\n",
      "127.0.0.1 - - [06/Dec/2020 10:06:48] \"GET /class_state HTTP/1.1\" 200 -\n",
      "10.0.0.23 - - [06/Dec/2020 10:06:49] \"GET /class_state HTTP/1.1\" 200 -\n",
      "127.0.0.1 - - [06/Dec/2020 10:06:49] \"GET /class_state HTTP/1.1\" 200 -\n",
      "10.0.0.23 - - [06/Dec/2020 10:06:50] \"GET /class_state HTTP/1.1\" 200 -\n",
      "127.0.0.1 - - [06/Dec/2020 10:06:50] \"GET /class_state HTTP/1.1\" 200 -\n",
      "10.0.0.23 - - [06/Dec/2020 10:06:51] \"GET /class_state HTTP/1.1\" 200 -\n",
      "127.0.0.1 - - [06/Dec/2020 10:06:51] \"GET /class_state HTTP/1.1\" 200 -\n",
      "10.0.0.23 - - [06/Dec/2020 10:06:52] \"GET /class_state HTTP/1.1\" 200 -\n",
      "127.0.0.1 - - [06/Dec/2020 10:06:52] \"GET /class_state HTTP/1.1\" 200 -\n",
      "10.0.0.23 - - [06/Dec/2020 10:06:53] \"GET /class_state HTTP/1.1\" 200 -\n",
      "127.0.0.1 - - [06/Dec/2020 10:06:53] \"GET /class_state HTTP/1.1\" 200 -\n",
      "10.0.0.23 - - [06/Dec/2020 10:06:54] \"GET /class_state HTTP/1.1\" 200 -\n",
      "127.0.0.1 - - [06/Dec/2020 10:06:54] \"GET /class_state HTTP/1.1\" 200 -\n",
      "10.0.0.23 - - [06/Dec/2020 10:06:55] \"GET /class_state HTTP/1.1\" 200 -\n",
      "127.0.0.1 - - [06/Dec/2020 10:06:55] \"GET /class_state HTTP/1.1\" 200 -\n",
      "10.0.0.23 - - [06/Dec/2020 10:06:56] \"GET /class_state HTTP/1.1\" 200 -\n",
      "127.0.0.1 - - [06/Dec/2020 10:06:56] \"GET /class_state HTTP/1.1\" 200 -\n",
      "10.0.0.23 - - [06/Dec/2020 10:06:57] \"GET /class_state HTTP/1.1\" 200 -\n",
      "127.0.0.1 - - [06/Dec/2020 10:06:57] \"GET /class_state HTTP/1.1\" 200 -\n",
      "10.0.0.23 - - [06/Dec/2020 10:06:58] \"GET /class_state HTTP/1.1\" 200 -\n",
      "127.0.0.1 - - [06/Dec/2020 10:06:58] \"GET /class_state HTTP/1.1\" 200 -\n",
      "10.0.0.23 - - [06/Dec/2020 10:06:59] \"GET /class_state HTTP/1.1\" 200 -\n",
      "127.0.0.1 - - [06/Dec/2020 10:06:59] \"GET /class_state HTTP/1.1\" 200 -\n"
     ]
    }
   ],
   "source": [
    "(datetime.now() + timedelta(days=1)).weekday()"
   ]
  },
  {
   "cell_type": "code",
   "execution_count": 4,
   "metadata": {},
   "outputs": [
    {
     "name": "stderr",
     "output_type": "stream",
     "text": [
      "10.0.0.23 - - [06/Dec/2020 09:57:08] \"GET /class_state HTTP/1.1\" 200 -\n"
     ]
    },
    {
     "data": {
      "text/plain": [
       "'1397:08'"
      ]
     },
     "execution_count": 4,
     "metadata": {},
     "output_type": "execute_result"
    },
    {
     "name": "stderr",
     "output_type": "stream",
     "text": [
      "10.0.0.23 - - [06/Dec/2020 09:57:09] \"GET /class_state HTTP/1.1\" 200 -\n",
      "10.0.0.23 - - [06/Dec/2020 09:57:10] \"GET /class_state HTTP/1.1\" 200 -\n",
      "10.0.0.23 - - [06/Dec/2020 09:57:11] \"GET /class_state HTTP/1.1\" 200 -\n",
      "10.0.0.23 - - [06/Dec/2020 09:57:12] \"GET /class_state HTTP/1.1\" 200 -\n",
      "10.0.0.23 - - [06/Dec/2020 09:57:13] \"GET /class_state HTTP/1.1\" 200 -\n",
      "10.0.0.23 - - [06/Dec/2020 09:57:14] \"GET /class_state HTTP/1.1\" 200 -\n",
      "10.0.0.23 - - [06/Dec/2020 09:57:15] \"GET /class_state HTTP/1.1\" 200 -\n",
      "10.0.0.23 - - [06/Dec/2020 09:57:16] \"GET /class_state HTTP/1.1\" 200 -\n"
     ]
    }
   ],
   "source": [
    "\n",
    "start_correct_date = datetime.now()\n",
    "start_correct_date = start_correct_date.replace(hour=next_class.start.hour,minute=next_class.start.minute, second=next_class.start.second)\n",
    "\n",
    "end_correct_date = datetime.now()\n",
    "end_correct_date = end_correct_date.replace(hour=next_class.end.hour,minute=next_class.end.minute,second=next_class.end.second)\n",
    "\n",
    "seconds = (datetime.now() - start_correct_date).seconds\n",
    "minutes = seconds/60\n",
    "seconds = seconds % 60\n",
    "import math\n",
    "if len(str(seconds)) == 1:\n",
    "    seconds = \"0\" + str(seconds)\n",
    "else:\n",
    "    seconds = str(seconds)\n",
    "time_left = f\"{math.floor(minutes)}:{seconds}\"\n",
    "time_left    \n"
   ]
  },
  {
   "cell_type": "code",
   "execution_count": 2,
   "metadata": {},
   "outputs": [],
   "source": []
  },
  {
   "cell_type": "code",
   "execution_count": 4,
   "metadata": {},
   "outputs": [
    {
     "data": {
      "text/plain": [
       "False"
      ]
     },
     "execution_count": 4,
     "metadata": {},
     "output_type": "execute_result"
    }
   ],
   "source": [
    "classes_test[0] == classes[1]"
   ]
  },
  {
   "cell_type": "code",
   "execution_count": 11,
   "metadata": {},
   "outputs": [
    {
     "data": {
      "text/plain": [
       "['__class__',\n",
       " '__delattr__',\n",
       " '__dict__',\n",
       " '__dir__',\n",
       " '__doc__',\n",
       " '__eq__',\n",
       " '__format__',\n",
       " '__ge__',\n",
       " '__getattribute__',\n",
       " '__gt__',\n",
       " '__hash__',\n",
       " '__init__',\n",
       " '__init_subclass__',\n",
       " '__le__',\n",
       " '__lt__',\n",
       " '__module__',\n",
       " '__ne__',\n",
       " '__new__',\n",
       " '__reduce__',\n",
       " '__reduce_ex__',\n",
       " '__repr__',\n",
       " '__setattr__',\n",
       " '__sizeof__',\n",
       " '__str__',\n",
       " '__subclasshook__',\n",
       " '__weakref__',\n",
       " 'end',\n",
       " 'end_class',\n",
       " 'in_session',\n",
       " 'is_currently_in_class',\n",
       " 'is_one_minute_away',\n",
       " 'name',\n",
       " 'play',\n",
       " 'playing',\n",
       " 'start',\n",
       " 'start_class',\n",
       " 'toJson']"
      ]
     },
     "execution_count": 11,
     "metadata": {},
     "output_type": "execute_result"
    }
   ],
   "source": [
    "dir(classes_test[0])"
   ]
  },
  {
   "cell_type": "code",
   "execution_count": 12,
   "metadata": {},
   "outputs": [
    {
     "data": {
      "text/plain": [
       "2444"
      ]
     },
     "execution_count": 12,
     "metadata": {},
     "output_type": "execute_result"
    },
    {
     "name": "stderr",
     "output_type": "stream",
     "text": [
      "10.0.0.23 - - [06/Dec/2020 09:59:16] \"GET /class_state HTTP/1.1\" 200 -\n",
      "10.0.0.23 - - [06/Dec/2020 09:59:17] \"GET /class_state HTTP/1.1\" 200 -\n",
      "10.0.0.23 - - [06/Dec/2020 09:59:18] \"GET /class_state HTTP/1.1\" 200 -\n",
      "10.0.0.23 - - [06/Dec/2020 09:59:19] \"GET /class_state HTTP/1.1\" 200 -\n",
      "10.0.0.23 - - [06/Dec/2020 09:59:20] \"GET /class_state HTTP/1.1\" 200 -\n",
      "10.0.0.23 - - [06/Dec/2020 09:59:21] \"GET /class_state HTTP/1.1\" 200 -\n",
      "10.0.0.23 - - [06/Dec/2020 09:59:22] \"GET /class_state HTTP/1.1\" 200 -\n",
      "10.0.0.23 - - [06/Dec/2020 09:59:23] \"GET /class_state HTTP/1.1\" 200 -\n",
      "10.0.0.23 - - [06/Dec/2020 09:59:24] \"GET /class_state HTTP/1.1\" 200 -\n",
      "10.0.0.23 - - [06/Dec/2020 09:59:25] \"GET /class_state HTTP/1.1\" 200 -\n",
      "10.0.0.23 - - [06/Dec/2020 09:59:26] \"GET /class_state HTTP/1.1\" 200 -\n",
      "10.0.0.23 - - [06/Dec/2020 09:59:27] \"GET /class_state HTTP/1.1\" 200 -\n",
      "10.0.0.23 - - [06/Dec/2020 09:59:28] \"GET /class_state HTTP/1.1\" 200 -\n",
      "10.0.0.23 - - [06/Dec/2020 09:59:29] \"GET /class_state HTTP/1.1\" 200 -\n",
      "10.0.0.23 - - [06/Dec/2020 09:59:30] \"GET /class_state HTTP/1.1\" 200 -\n",
      "10.0.0.23 - - [06/Dec/2020 09:59:31] \"GET /class_state HTTP/1.1\" 200 -\n",
      "10.0.0.23 - - [06/Dec/2020 09:59:32] \"GET /class_state HTTP/1.1\" 200 -\n",
      "10.0.0.23 - - [06/Dec/2020 09:59:33] \"GET /class_state HTTP/1.1\" 200 -\n",
      "10.0.0.23 - - [06/Dec/2020 09:59:34] \"GET /class_state HTTP/1.1\" 200 -\n",
      "10.0.0.23 - - [06/Dec/2020 09:59:35] \"GET /class_state HTTP/1.1\" 200 -\n",
      "10.0.0.23 - - [06/Dec/2020 09:59:36] \"GET /class_state HTTP/1.1\" 200 -\n",
      "10.0.0.23 - - [06/Dec/2020 09:59:37] \"GET /class_state HTTP/1.1\" 200 -\n",
      "10.0.0.23 - - [06/Dec/2020 09:59:38] \"GET /class_state HTTP/1.1\" 200 -\n",
      "10.0.0.23 - - [06/Dec/2020 09:59:39] \"GET /class_state HTTP/1.1\" 200 -\n",
      "10.0.0.23 - - [06/Dec/2020 09:59:40] \"GET /class_state HTTP/1.1\" 200 -\n",
      "10.0.0.23 - - [06/Dec/2020 09:59:41] \"GET /class_state HTTP/1.1\" 200 -\n",
      "10.0.0.23 - - [06/Dec/2020 09:59:42] \"GET /class_state HTTP/1.1\" 200 -\n"
     ]
    }
   ],
   "source": [
    "(start_correct_date - datetime.now()).seconds"
   ]
  },
  {
   "cell_type": "code",
   "execution_count": 10,
   "metadata": {},
   "outputs": [
    {
     "name": "stdout",
     "output_type": "stream",
     "text": [
      "2020-12-06 10:40:00.771531\n"
     ]
    },
    {
     "name": "stderr",
     "output_type": "stream",
     "text": [
      "10.0.0.23 - - [06/Dec/2020 09:58:44] \"GET /class_state HTTP/1.1\" 200 -\n"
     ]
    },
    {
     "data": {
      "text/plain": [
       "datetime.datetime(2020, 12, 6, 9, 58, 44, 873907)"
      ]
     },
     "execution_count": 10,
     "metadata": {},
     "output_type": "execute_result"
    }
   ],
   "source": [
    "print(start_correct_date)\n",
    "datetime.now()"
   ]
  },
  {
   "cell_type": "code",
   "execution_count": 11,
   "metadata": {},
   "outputs": [
    {
     "name": "stdout",
     "output_type": "stream",
     "text": [
      "1\n"
     ]
    },
    {
     "name": "stderr",
     "output_type": "stream",
     "text": [
      "10.0.0.23 - - [06/Dec/2020 09:58:45] \"GET /class_state HTTP/1.1\" 200 -\n",
      "10.0.0.23 - - [06/Dec/2020 09:58:46] \"GET /class_state HTTP/1.1\" 200 -\n",
      "10.0.0.23 - - [06/Dec/2020 09:58:47] \"GET /class_state HTTP/1.1\" 200 -\n",
      "10.0.0.23 - - [06/Dec/2020 09:58:48] \"GET /class_state HTTP/1.1\" 200 -\n",
      "10.0.0.23 - - [06/Dec/2020 09:58:49] \"GET /class_state HTTP/1.1\" 200 -\n",
      "10.0.0.23 - - [06/Dec/2020 09:58:50] \"GET /class_state HTTP/1.1\" 200 -\n",
      "10.0.0.23 - - [06/Dec/2020 09:58:51] \"GET /class_state HTTP/1.1\" 200 -\n",
      "10.0.0.23 - - [06/Dec/2020 09:58:52] \"GET /class_state HTTP/1.1\" 200 -\n",
      "10.0.0.23 - - [06/Dec/2020 09:58:53] \"GET /class_state HTTP/1.1\" 200 -\n",
      "10.0.0.23 - - [06/Dec/2020 09:58:54] \"GET /class_state HTTP/1.1\" 200 -\n",
      "10.0.0.23 - - [06/Dec/2020 09:58:55] \"GET /class_state HTTP/1.1\" 200 -\n",
      "10.0.0.23 - - [06/Dec/2020 09:58:56] \"GET /class_state HTTP/1.1\" 200 -\n",
      "10.0.0.23 - - [06/Dec/2020 09:58:57] \"GET /class_state HTTP/1.1\" 200 -\n",
      "10.0.0.23 - - [06/Dec/2020 09:58:58] \"GET /class_state HTTP/1.1\" 200 -\n",
      "10.0.0.23 - - [06/Dec/2020 09:58:59] \"GET /class_state HTTP/1.1\" 200 -\n",
      "10.0.0.23 - - [06/Dec/2020 09:59:00] \"GET /class_state HTTP/1.1\" 200 -\n",
      "10.0.0.23 - - [06/Dec/2020 09:59:01] \"GET /class_state HTTP/1.1\" 200 -\n",
      "10.0.0.23 - - [06/Dec/2020 09:59:02] \"GET /class_state HTTP/1.1\" 200 -\n",
      "10.0.0.23 - - [06/Dec/2020 09:59:03] \"GET /class_state HTTP/1.1\" 200 -\n",
      "10.0.0.23 - - [06/Dec/2020 09:59:04] \"GET /class_state HTTP/1.1\" 200 -\n",
      "10.0.0.23 - - [06/Dec/2020 09:59:05] \"GET /class_state HTTP/1.1\" 200 -\n",
      "10.0.0.23 - - [06/Dec/2020 09:59:06] \"GET /class_state HTTP/1.1\" 200 -\n",
      "10.0.0.23 - - [06/Dec/2020 09:59:07] \"GET /class_state HTTP/1.1\" 200 -\n",
      "10.0.0.23 - - [06/Dec/2020 09:59:08] \"GET /class_state HTTP/1.1\" 200 -\n",
      "10.0.0.23 - - [06/Dec/2020 09:59:09] \"GET /class_state HTTP/1.1\" 200 -\n",
      "10.0.0.23 - - [06/Dec/2020 09:59:10] \"GET /class_state HTTP/1.1\" 200 -\n",
      "10.0.0.23 - - [06/Dec/2020 09:59:11] \"GET /class_state HTTP/1.1\" 200 -\n",
      "10.0.0.23 - - [06/Dec/2020 09:59:12] \"GET /class_state HTTP/1.1\" 200 -\n",
      "10.0.0.23 - - [06/Dec/2020 09:59:13] \"GET /class_state HTTP/1.1\" 200 -\n",
      "10.0.0.23 - - [06/Dec/2020 09:59:14] \"GET /class_state HTTP/1.1\" 200 -\n",
      "10.0.0.23 - - [06/Dec/2020 09:59:15] \"GET /class_state HTTP/1.1\" 200 -\n"
     ]
    }
   ],
   "source": [
    "print(\"1\")"
   ]
  },
  {
   "cell_type": "code",
   "execution_count": 78,
   "metadata": {},
   "outputs": [
    {
     "data": {
      "text/plain": [
       "'{\"current_class\": {\"name\": \"Morning Meeting\", \"start\": \"2020-12-06 07:05:00.906700\", \"end\": \"2020-12-06 07:07:00.906796\"}, \"next_class\": null}'"
      ]
     },
     "execution_count": 78,
     "metadata": {},
     "output_type": "execute_result"
    },
    {
     "name": "stdout",
     "output_type": "stream",
     "text": [
      "/class_state\n",
      "im here\n",
      "/favicon.ico\n"
     ]
    },
    {
     "name": "stderr",
     "output_type": "stream",
     "text": [
      "10.0.0.23 - - [06/Dec/2020 07:51:51] \"GET /class_state HTTP/1.1\" 200 -\n"
     ]
    },
    {
     "name": "stdout",
     "output_type": "stream",
     "text": [
      "/\n",
      "/favicon.ico\n"
     ]
    },
    {
     "name": "stderr",
     "output_type": "stream",
     "text": [
      "10.0.0.23 - - [06/Dec/2020 07:55:30] \"GET / HTTP/1.1\" 200 -\n"
     ]
    },
    {
     "name": "stdout",
     "output_type": "stream",
     "text": [
      "/\n",
      "/favicon.ico\n"
     ]
    },
    {
     "name": "stderr",
     "output_type": "stream",
     "text": [
      "10.0.0.23 - - [06/Dec/2020 08:02:52] \"GET / HTTP/1.1\" 200 -\n"
     ]
    },
    {
     "name": "stdout",
     "output_type": "stream",
     "text": [
      "/\n",
      "/favicon.ico\n"
     ]
    },
    {
     "name": "stderr",
     "output_type": "stream",
     "text": [
      "10.0.0.23 - - [06/Dec/2020 08:04:19] \"GET / HTTP/1.1\" 200 -\n"
     ]
    },
    {
     "name": "stdout",
     "output_type": "stream",
     "text": [
      "/\n",
      "/favicon.ico\n"
     ]
    },
    {
     "name": "stderr",
     "output_type": "stream",
     "text": [
      "10.0.0.23 - - [06/Dec/2020 08:04:43] \"GET / HTTP/1.1\" 200 -\n"
     ]
    },
    {
     "name": "stdout",
     "output_type": "stream",
     "text": [
      "/\n",
      "/favicon.ico\n"
     ]
    },
    {
     "name": "stderr",
     "output_type": "stream",
     "text": [
      "10.0.0.23 - - [06/Dec/2020 08:04:57] \"GET / HTTP/1.1\" 200 -\n"
     ]
    },
    {
     "name": "stdout",
     "output_type": "stream",
     "text": [
      "/\n",
      "/favicon.ico\n"
     ]
    },
    {
     "name": "stderr",
     "output_type": "stream",
     "text": [
      "10.0.0.23 - - [06/Dec/2020 08:05:16] \"GET / HTTP/1.1\" 200 -\n"
     ]
    },
    {
     "name": "stdout",
     "output_type": "stream",
     "text": [
      "/\n",
      "/favicon.ico\n"
     ]
    },
    {
     "name": "stderr",
     "output_type": "stream",
     "text": [
      "10.0.0.23 - - [06/Dec/2020 08:05:19] \"GET / HTTP/1.1\" 200 -\n"
     ]
    },
    {
     "name": "stdout",
     "output_type": "stream",
     "text": [
      "/\n",
      "/favicon.ico\n"
     ]
    },
    {
     "name": "stderr",
     "output_type": "stream",
     "text": [
      "10.0.0.23 - - [06/Dec/2020 08:06:36] \"GET / HTTP/1.1\" 200 -\n"
     ]
    },
    {
     "name": "stdout",
     "output_type": "stream",
     "text": [
      "/\n",
      "/favicon.ico\n"
     ]
    },
    {
     "name": "stderr",
     "output_type": "stream",
     "text": [
      "10.0.0.23 - - [06/Dec/2020 08:07:07] \"GET / HTTP/1.1\" 200 -\n"
     ]
    },
    {
     "name": "stdout",
     "output_type": "stream",
     "text": [
      "/\n"
     ]
    },
    {
     "name": "stderr",
     "output_type": "stream",
     "text": [
      "10.0.0.235 - - [06/Dec/2020 08:09:15] \"GET / HTTP/1.1\" 200 -\n"
     ]
    },
    {
     "name": "stdout",
     "output_type": "stream",
     "text": [
      "/favicon.ico\n",
      "/\n"
     ]
    },
    {
     "name": "stderr",
     "output_type": "stream",
     "text": [
      "10.0.0.235 - - [06/Dec/2020 08:15:08] \"GET / HTTP/1.1\" 304 -\n"
     ]
    },
    {
     "name": "stdout",
     "output_type": "stream",
     "text": [
      "/favicon.ico\n",
      "/favicon.ico\n",
      "/\n"
     ]
    },
    {
     "name": "stderr",
     "output_type": "stream",
     "text": [
      "10.0.0.235 - - [06/Dec/2020 08:16:02] \"GET / HTTP/1.1\" 200 -\n"
     ]
    },
    {
     "name": "stdout",
     "output_type": "stream",
     "text": [
      "/favicon.ico\n",
      "/\n",
      "/favicon.ico\n"
     ]
    },
    {
     "name": "stderr",
     "output_type": "stream",
     "text": [
      "10.0.0.23 - - [06/Dec/2020 08:30:01] \"GET / HTTP/1.1\" 200 -\n"
     ]
    },
    {
     "name": "stdout",
     "output_type": "stream",
     "text": [
      "/\n",
      "/favicon.ico\n"
     ]
    },
    {
     "name": "stderr",
     "output_type": "stream",
     "text": [
      "10.0.0.23 - - [06/Dec/2020 08:31:16] \"GET / HTTP/1.1\" 200 -\n"
     ]
    },
    {
     "name": "stdout",
     "output_type": "stream",
     "text": [
      "/current_class\n",
      "/current_class\n",
      "/current_class\n",
      "/current_class\n",
      "/current_class\n",
      "/current_class\n",
      "/current_class\n",
      "/current_class\n",
      "/current_class\n",
      "/\n",
      "/favicon.ico\n"
     ]
    },
    {
     "name": "stderr",
     "output_type": "stream",
     "text": [
      "10.0.0.23 - - [06/Dec/2020 08:32:56] \"GET / HTTP/1.1\" 200 -\n"
     ]
    },
    {
     "name": "stdout",
     "output_type": "stream",
     "text": [
      "/class_state\n",
      "im here\n"
     ]
    },
    {
     "name": "stderr",
     "output_type": "stream",
     "text": [
      "10.0.0.23 - - [06/Dec/2020 08:33:06] \"GET /class_state HTTP/1.1\" 200 -\n"
     ]
    },
    {
     "name": "stdout",
     "output_type": "stream",
     "text": [
      "/class_state\n",
      "im here\n"
     ]
    },
    {
     "name": "stderr",
     "output_type": "stream",
     "text": [
      "10.0.0.23 - - [06/Dec/2020 08:33:16] \"GET /class_state HTTP/1.1\" 200 -\n"
     ]
    },
    {
     "name": "stdout",
     "output_type": "stream",
     "text": [
      "/class_state\n",
      "im here\n"
     ]
    },
    {
     "name": "stderr",
     "output_type": "stream",
     "text": [
      "10.0.0.23 - - [06/Dec/2020 08:33:26] \"GET /class_state HTTP/1.1\" 200 -\n"
     ]
    },
    {
     "name": "stdout",
     "output_type": "stream",
     "text": [
      "/class_state\n",
      "im here\n"
     ]
    },
    {
     "name": "stderr",
     "output_type": "stream",
     "text": [
      "10.0.0.23 - - [06/Dec/2020 08:33:36] \"GET /class_state HTTP/1.1\" 200 -\n"
     ]
    },
    {
     "name": "stdout",
     "output_type": "stream",
     "text": [
      "/class_state\n",
      "im here\n"
     ]
    },
    {
     "name": "stderr",
     "output_type": "stream",
     "text": [
      "10.0.0.23 - - [06/Dec/2020 08:33:46] \"GET /class_state HTTP/1.1\" 200 -\n"
     ]
    },
    {
     "name": "stdout",
     "output_type": "stream",
     "text": [
      "/class_state\n",
      "im here\n"
     ]
    },
    {
     "name": "stderr",
     "output_type": "stream",
     "text": [
      "10.0.0.23 - - [06/Dec/2020 08:33:56] \"GET /class_state HTTP/1.1\" 200 -\n"
     ]
    },
    {
     "name": "stdout",
     "output_type": "stream",
     "text": [
      "/class_state\n",
      "im here\n"
     ]
    },
    {
     "name": "stderr",
     "output_type": "stream",
     "text": [
      "10.0.0.23 - - [06/Dec/2020 08:34:06] \"GET /class_state HTTP/1.1\" 200 -\n"
     ]
    },
    {
     "name": "stdout",
     "output_type": "stream",
     "text": [
      "/class_state\n",
      "im here\n"
     ]
    },
    {
     "name": "stderr",
     "output_type": "stream",
     "text": [
      "10.0.0.23 - - [06/Dec/2020 08:34:16] \"GET /class_state HTTP/1.1\" 200 -\n"
     ]
    },
    {
     "name": "stdout",
     "output_type": "stream",
     "text": [
      "/class_state\n",
      "im here\n"
     ]
    },
    {
     "name": "stderr",
     "output_type": "stream",
     "text": [
      "10.0.0.23 - - [06/Dec/2020 08:34:26] \"GET /class_state HTTP/1.1\" 200 -\n"
     ]
    },
    {
     "name": "stdout",
     "output_type": "stream",
     "text": [
      "/class_state\n",
      "im here\n"
     ]
    },
    {
     "name": "stderr",
     "output_type": "stream",
     "text": [
      "10.0.0.23 - - [06/Dec/2020 08:34:36] \"GET /class_state HTTP/1.1\" 200 -\n"
     ]
    },
    {
     "name": "stdout",
     "output_type": "stream",
     "text": [
      "/class_state\n",
      "im here\n"
     ]
    },
    {
     "name": "stderr",
     "output_type": "stream",
     "text": [
      "10.0.0.23 - - [06/Dec/2020 08:34:46] \"GET /class_state HTTP/1.1\" 200 -\n"
     ]
    },
    {
     "name": "stdout",
     "output_type": "stream",
     "text": [
      "/class_state\n",
      "im here\n"
     ]
    },
    {
     "name": "stderr",
     "output_type": "stream",
     "text": [
      "10.0.0.23 - - [06/Dec/2020 08:34:56] \"GET /class_state HTTP/1.1\" 200 -\n"
     ]
    },
    {
     "name": "stdout",
     "output_type": "stream",
     "text": [
      "/class_state\n",
      "im here\n"
     ]
    },
    {
     "name": "stderr",
     "output_type": "stream",
     "text": [
      "10.0.0.23 - - [06/Dec/2020 08:35:06] \"GET /class_state HTTP/1.1\" 200 -\n"
     ]
    },
    {
     "name": "stdout",
     "output_type": "stream",
     "text": [
      "/class_state\n",
      "im here\n"
     ]
    },
    {
     "name": "stderr",
     "output_type": "stream",
     "text": [
      "10.0.0.23 - - [06/Dec/2020 08:35:16] \"GET /class_state HTTP/1.1\" 200 -\n"
     ]
    },
    {
     "name": "stdout",
     "output_type": "stream",
     "text": [
      "/class_state\n",
      "im here\n"
     ]
    },
    {
     "name": "stderr",
     "output_type": "stream",
     "text": [
      "10.0.0.23 - - [06/Dec/2020 08:35:26] \"GET /class_state HTTP/1.1\" 200 -\n"
     ]
    },
    {
     "name": "stdout",
     "output_type": "stream",
     "text": [
      "/class_state\n",
      "im here\n"
     ]
    },
    {
     "name": "stderr",
     "output_type": "stream",
     "text": [
      "10.0.0.23 - - [06/Dec/2020 08:35:36] \"GET /class_state HTTP/1.1\" 200 -\n"
     ]
    },
    {
     "name": "stdout",
     "output_type": "stream",
     "text": [
      "/class_state\n",
      "im here\n"
     ]
    },
    {
     "name": "stderr",
     "output_type": "stream",
     "text": [
      "10.0.0.23 - - [06/Dec/2020 08:35:46] \"GET /class_state HTTP/1.1\" 200 -\n"
     ]
    },
    {
     "name": "stdout",
     "output_type": "stream",
     "text": [
      "/class_state\n",
      "im here\n"
     ]
    },
    {
     "name": "stderr",
     "output_type": "stream",
     "text": [
      "10.0.0.23 - - [06/Dec/2020 08:35:56] \"GET /class_state HTTP/1.1\" 200 -\n"
     ]
    },
    {
     "name": "stdout",
     "output_type": "stream",
     "text": [
      "/class_state\n",
      "im here\n"
     ]
    },
    {
     "name": "stderr",
     "output_type": "stream",
     "text": [
      "10.0.0.23 - - [06/Dec/2020 08:36:06] \"GET /class_state HTTP/1.1\" 200 -\n"
     ]
    },
    {
     "name": "stdout",
     "output_type": "stream",
     "text": [
      "/class_state\n",
      "im here\n"
     ]
    },
    {
     "name": "stderr",
     "output_type": "stream",
     "text": [
      "10.0.0.23 - - [06/Dec/2020 08:36:16] \"GET /class_state HTTP/1.1\" 200 -\n"
     ]
    },
    {
     "name": "stdout",
     "output_type": "stream",
     "text": [
      "/class_state\n",
      "im here\n"
     ]
    },
    {
     "name": "stderr",
     "output_type": "stream",
     "text": [
      "10.0.0.23 - - [06/Dec/2020 08:36:26] \"GET /class_state HTTP/1.1\" 200 -\n"
     ]
    },
    {
     "name": "stdout",
     "output_type": "stream",
     "text": [
      "/class_state\n",
      "im here\n"
     ]
    },
    {
     "name": "stderr",
     "output_type": "stream",
     "text": [
      "10.0.0.23 - - [06/Dec/2020 08:36:36] \"GET /class_state HTTP/1.1\" 200 -\n"
     ]
    },
    {
     "name": "stdout",
     "output_type": "stream",
     "text": [
      "/class_state\n",
      "im here\n"
     ]
    },
    {
     "name": "stderr",
     "output_type": "stream",
     "text": [
      "10.0.0.23 - - [06/Dec/2020 08:36:46] \"GET /class_state HTTP/1.1\" 200 -\n"
     ]
    },
    {
     "name": "stdout",
     "output_type": "stream",
     "text": [
      "/class_state\n",
      "im here\n"
     ]
    },
    {
     "name": "stderr",
     "output_type": "stream",
     "text": [
      "10.0.0.23 - - [06/Dec/2020 08:36:56] \"GET /class_state HTTP/1.1\" 200 -\n"
     ]
    },
    {
     "name": "stdout",
     "output_type": "stream",
     "text": [
      "/class_state\n",
      "im here\n"
     ]
    },
    {
     "name": "stderr",
     "output_type": "stream",
     "text": [
      "10.0.0.23 - - [06/Dec/2020 08:37:06] \"GET /class_state HTTP/1.1\" 200 -\n"
     ]
    },
    {
     "name": "stdout",
     "output_type": "stream",
     "text": [
      "/class_state\n",
      "im here\n"
     ]
    },
    {
     "name": "stderr",
     "output_type": "stream",
     "text": [
      "10.0.0.23 - - [06/Dec/2020 08:37:16] \"GET /class_state HTTP/1.1\" 200 -\n"
     ]
    },
    {
     "name": "stdout",
     "output_type": "stream",
     "text": [
      "/class_state\n",
      "im here\n"
     ]
    },
    {
     "name": "stderr",
     "output_type": "stream",
     "text": [
      "10.0.0.23 - - [06/Dec/2020 08:37:26] \"GET /class_state HTTP/1.1\" 200 -\n"
     ]
    },
    {
     "name": "stdout",
     "output_type": "stream",
     "text": [
      "/class_state\n",
      "im here\n"
     ]
    },
    {
     "name": "stderr",
     "output_type": "stream",
     "text": [
      "10.0.0.23 - - [06/Dec/2020 08:37:36] \"GET /class_state HTTP/1.1\" 200 -\n"
     ]
    }
   ],
   "source": [
    "\n",
    "\n",
    "json.dumps({\"current_class\": current_class.toJson() if current_class is not None else None, \"next_class\":next_class.toJson() if next_class is not None else None })"
   ]
  },
  {
   "cell_type": "code",
   "execution_count": 77,
   "metadata": {},
   "outputs": [],
   "source": [
    "current_class = classes[0]"
   ]
  },
  {
   "cell_type": "code",
   "execution_count": 2,
   "metadata": {},
   "outputs": [],
   "source": [
    "from datetime import datetime, timedelta\n",
    "\n",
    "now = datetime.now()"
   ]
  },
  {
   "cell_type": "code",
   "execution_count": 2,
   "metadata": {},
   "outputs": [
    {
     "data": {
      "text/plain": [
       "datetime.timedelta(seconds=60)"
      ]
     },
     "execution_count": 2,
     "metadata": {},
     "output_type": "execute_result"
    }
   ],
   "source": [
    "timedelta(minutes=1)"
   ]
  },
  {
   "cell_type": "code",
   "execution_count": 76,
   "metadata": {},
   "outputs": [
    {
     "name": "stdout",
     "output_type": "stream",
     "text": [
      "/class_state\n",
      "im here\n",
      "/favicon.ico\n"
     ]
    },
    {
     "name": "stderr",
     "output_type": "stream",
     "text": [
      "10.0.0.23 - - [06/Dec/2020 07:51:27] \"GET /class_state HTTP/1.1\" 200 -\n"
     ]
    }
   ],
   "source": []
  },
  {
   "cell_type": "raw",
   "metadata": {},
   "source": [
    "thread.join()"
   ]
  },
  {
   "cell_type": "code",
   "execution_count": 79,
   "metadata": {},
   "outputs": [
    {
     "name": "stdout",
     "output_type": "stream",
     "text": [
      "/class_state\n",
      "im here\n"
     ]
    },
    {
     "name": "stderr",
     "output_type": "stream",
     "text": [
      "10.0.0.23 - - [06/Dec/2020 08:37:46] \"GET /class_state HTTP/1.1\" 200 -\n"
     ]
    }
   ],
   "source": [
    "start = datetime.now()"
   ]
  },
  {
   "cell_type": "code",
   "execution_count": 93,
   "metadata": {},
   "outputs": [
    {
     "data": {
      "text/plain": [
       "'1:40'"
      ]
     },
     "execution_count": 93,
     "metadata": {},
     "output_type": "execute_result"
    },
    {
     "name": "stdout",
     "output_type": "stream",
     "text": [
      "/class_state\n",
      "im here\n"
     ]
    },
    {
     "name": "stderr",
     "output_type": "stream",
     "text": [
      "10.0.0.23 - - [06/Dec/2020 08:48:56] \"GET /class_state HTTP/1.1\" 200 -\n"
     ]
    },
    {
     "name": "stdout",
     "output_type": "stream",
     "text": [
      "/class_state\n",
      "im here\n"
     ]
    },
    {
     "name": "stderr",
     "output_type": "stream",
     "text": [
      "10.0.0.23 - - [06/Dec/2020 08:49:06] \"GET /class_state HTTP/1.1\" 200 -\n"
     ]
    },
    {
     "name": "stdout",
     "output_type": "stream",
     "text": [
      "/class_state\n",
      "im here\n"
     ]
    },
    {
     "name": "stderr",
     "output_type": "stream",
     "text": [
      "10.0.0.23 - - [06/Dec/2020 08:49:16] \"GET /class_state HTTP/1.1\" 200 -\n"
     ]
    },
    {
     "name": "stdout",
     "output_type": "stream",
     "text": [
      "/class_state\n",
      "im here\n"
     ]
    },
    {
     "name": "stderr",
     "output_type": "stream",
     "text": [
      "10.0.0.23 - - [06/Dec/2020 08:49:26] \"GET /class_state HTTP/1.1\" 200 -\n"
     ]
    },
    {
     "name": "stdout",
     "output_type": "stream",
     "text": [
      "/class_state\n",
      "im here\n"
     ]
    },
    {
     "name": "stderr",
     "output_type": "stream",
     "text": [
      "10.0.0.23 - - [06/Dec/2020 08:49:36] \"GET /class_state HTTP/1.1\" 200 -\n"
     ]
    },
    {
     "name": "stdout",
     "output_type": "stream",
     "text": [
      "/class_state\n",
      "im here\n"
     ]
    },
    {
     "name": "stderr",
     "output_type": "stream",
     "text": [
      "10.0.0.23 - - [06/Dec/2020 08:49:46] \"GET /class_state HTTP/1.1\" 200 -\n"
     ]
    },
    {
     "name": "stdout",
     "output_type": "stream",
     "text": [
      "/class_state\n",
      "im here\n"
     ]
    },
    {
     "name": "stderr",
     "output_type": "stream",
     "text": [
      "10.0.0.23 - - [06/Dec/2020 08:49:56] \"GET /class_state HTTP/1.1\" 200 -\n"
     ]
    },
    {
     "name": "stdout",
     "output_type": "stream",
     "text": [
      "/class_state\n",
      "im here\n"
     ]
    },
    {
     "name": "stderr",
     "output_type": "stream",
     "text": [
      "10.0.0.23 - - [06/Dec/2020 08:50:06] \"GET /class_state HTTP/1.1\" 200 -\n"
     ]
    },
    {
     "name": "stdout",
     "output_type": "stream",
     "text": [
      "/class_state\n",
      "im here\n"
     ]
    },
    {
     "name": "stderr",
     "output_type": "stream",
     "text": [
      "10.0.0.23 - - [06/Dec/2020 08:50:16] \"GET /class_state HTTP/1.1\" 200 -\n"
     ]
    },
    {
     "name": "stdout",
     "output_type": "stream",
     "text": [
      "/class_state\n",
      "im here\n"
     ]
    },
    {
     "name": "stderr",
     "output_type": "stream",
     "text": [
      "10.0.0.23 - - [06/Dec/2020 08:50:26] \"GET /class_state HTTP/1.1\" 200 -\n"
     ]
    },
    {
     "name": "stdout",
     "output_type": "stream",
     "text": [
      "/class_state\n",
      "im here\n"
     ]
    },
    {
     "name": "stderr",
     "output_type": "stream",
     "text": [
      "10.0.0.23 - - [06/Dec/2020 08:50:36] \"GET /class_state HTTP/1.1\" 200 -\n"
     ]
    },
    {
     "name": "stdout",
     "output_type": "stream",
     "text": [
      "/class_state\n",
      "im here\n"
     ]
    },
    {
     "name": "stderr",
     "output_type": "stream",
     "text": [
      "10.0.0.23 - - [06/Dec/2020 08:50:46] \"GET /class_state HTTP/1.1\" 200 -\n"
     ]
    },
    {
     "name": "stdout",
     "output_type": "stream",
     "text": [
      "/class_state\n",
      "im here\n"
     ]
    },
    {
     "name": "stderr",
     "output_type": "stream",
     "text": [
      "10.0.0.23 - - [06/Dec/2020 08:50:56] \"GET /class_state HTTP/1.1\" 200 -\n"
     ]
    },
    {
     "name": "stdout",
     "output_type": "stream",
     "text": [
      "/class_state\n",
      "im here\n"
     ]
    },
    {
     "name": "stderr",
     "output_type": "stream",
     "text": [
      "10.0.0.23 - - [06/Dec/2020 08:51:06] \"GET /class_state HTTP/1.1\" 200 -\n"
     ]
    },
    {
     "name": "stdout",
     "output_type": "stream",
     "text": [
      "/class_state\n",
      "im here\n"
     ]
    },
    {
     "name": "stderr",
     "output_type": "stream",
     "text": [
      "10.0.0.23 - - [06/Dec/2020 08:51:16] \"GET /class_state HTTP/1.1\" 200 -\n"
     ]
    },
    {
     "name": "stdout",
     "output_type": "stream",
     "text": [
      "/class_state\n",
      "im here\n"
     ]
    },
    {
     "name": "stderr",
     "output_type": "stream",
     "text": [
      "10.0.0.23 - - [06/Dec/2020 08:51:26] \"GET /class_state HTTP/1.1\" 200 -\n"
     ]
    },
    {
     "name": "stdout",
     "output_type": "stream",
     "text": [
      "/class_state\n",
      "im here\n"
     ]
    },
    {
     "name": "stderr",
     "output_type": "stream",
     "text": [
      "10.0.0.23 - - [06/Dec/2020 08:51:36] \"GET /class_state HTTP/1.1\" 200 -\n"
     ]
    },
    {
     "name": "stdout",
     "output_type": "stream",
     "text": [
      "/class_state\n",
      "im here\n"
     ]
    },
    {
     "name": "stderr",
     "output_type": "stream",
     "text": [
      "10.0.0.23 - - [06/Dec/2020 08:51:46] \"GET /class_state HTTP/1.1\" 200 -\n"
     ]
    },
    {
     "name": "stdout",
     "output_type": "stream",
     "text": [
      "/class_state\n",
      "im here\n"
     ]
    },
    {
     "name": "stderr",
     "output_type": "stream",
     "text": [
      "10.0.0.23 - - [06/Dec/2020 08:51:56] \"GET /class_state HTTP/1.1\" 200 -\n"
     ]
    },
    {
     "name": "stdout",
     "output_type": "stream",
     "text": [
      "/class_state\n",
      "im here\n"
     ]
    },
    {
     "name": "stderr",
     "output_type": "stream",
     "text": [
      "10.0.0.23 - - [06/Dec/2020 08:52:06] \"GET /class_state HTTP/1.1\" 200 -\n"
     ]
    },
    {
     "name": "stdout",
     "output_type": "stream",
     "text": [
      "/class_state\n",
      "im here\n"
     ]
    },
    {
     "name": "stderr",
     "output_type": "stream",
     "text": [
      "10.0.0.23 - - [06/Dec/2020 08:52:16] \"GET /class_state HTTP/1.1\" 200 -\n"
     ]
    },
    {
     "name": "stdout",
     "output_type": "stream",
     "text": [
      "/class_state\n",
      "im here\n"
     ]
    },
    {
     "name": "stderr",
     "output_type": "stream",
     "text": [
      "10.0.0.23 - - [06/Dec/2020 08:52:26] \"GET /class_state HTTP/1.1\" 200 -\n"
     ]
    },
    {
     "name": "stdout",
     "output_type": "stream",
     "text": [
      "/class_state\n",
      "im here\n"
     ]
    },
    {
     "name": "stderr",
     "output_type": "stream",
     "text": [
      "10.0.0.23 - - [06/Dec/2020 08:52:36] \"GET /class_state HTTP/1.1\" 200 -\n"
     ]
    },
    {
     "name": "stdout",
     "output_type": "stream",
     "text": [
      "/class_state\n",
      "im here\n"
     ]
    },
    {
     "name": "stderr",
     "output_type": "stream",
     "text": [
      "10.0.0.23 - - [06/Dec/2020 08:52:46] \"GET /class_state HTTP/1.1\" 200 -\n"
     ]
    },
    {
     "name": "stdout",
     "output_type": "stream",
     "text": [
      "/class_state\n",
      "im here\n"
     ]
    },
    {
     "name": "stderr",
     "output_type": "stream",
     "text": [
      "10.0.0.23 - - [06/Dec/2020 08:52:56] \"GET /class_state HTTP/1.1\" 200 -\n"
     ]
    },
    {
     "name": "stdout",
     "output_type": "stream",
     "text": [
      "/class_state\n",
      "im here\n"
     ]
    },
    {
     "name": "stderr",
     "output_type": "stream",
     "text": [
      "10.0.0.23 - - [06/Dec/2020 08:53:06] \"GET /class_state HTTP/1.1\" 200 -\n"
     ]
    },
    {
     "name": "stdout",
     "output_type": "stream",
     "text": [
      "/class_state\n",
      "im here\n"
     ]
    },
    {
     "name": "stderr",
     "output_type": "stream",
     "text": [
      "10.0.0.23 - - [06/Dec/2020 08:53:16] \"GET /class_state HTTP/1.1\" 200 -\n"
     ]
    },
    {
     "name": "stdout",
     "output_type": "stream",
     "text": [
      "/class_state\n",
      "im here\n"
     ]
    },
    {
     "name": "stderr",
     "output_type": "stream",
     "text": [
      "10.0.0.23 - - [06/Dec/2020 08:53:26] \"GET /class_state HTTP/1.1\" 200 -\n"
     ]
    },
    {
     "name": "stdout",
     "output_type": "stream",
     "text": [
      "/class_state\n",
      "im here\n"
     ]
    },
    {
     "name": "stderr",
     "output_type": "stream",
     "text": [
      "10.0.0.23 - - [06/Dec/2020 08:53:36] \"GET /class_state HTTP/1.1\" 200 -\n"
     ]
    },
    {
     "name": "stdout",
     "output_type": "stream",
     "text": [
      "/class_state\n",
      "im here\n"
     ]
    },
    {
     "name": "stderr",
     "output_type": "stream",
     "text": [
      "10.0.0.23 - - [06/Dec/2020 08:53:46] \"GET /class_state HTTP/1.1\" 200 -\n"
     ]
    },
    {
     "name": "stdout",
     "output_type": "stream",
     "text": [
      "/class_state\n",
      "im here\n"
     ]
    },
    {
     "name": "stderr",
     "output_type": "stream",
     "text": [
      "10.0.0.23 - - [06/Dec/2020 08:53:56] \"GET /class_state HTTP/1.1\" 200 -\n"
     ]
    },
    {
     "name": "stdout",
     "output_type": "stream",
     "text": [
      "/class_state\n",
      "im here\n"
     ]
    },
    {
     "name": "stderr",
     "output_type": "stream",
     "text": [
      "10.0.0.23 - - [06/Dec/2020 08:54:06] \"GET /class_state HTTP/1.1\" 200 -\n"
     ]
    },
    {
     "name": "stdout",
     "output_type": "stream",
     "text": [
      "/class_state\n",
      "im here\n"
     ]
    },
    {
     "name": "stderr",
     "output_type": "stream",
     "text": [
      "10.0.0.23 - - [06/Dec/2020 08:54:16] \"GET /class_state HTTP/1.1\" 200 -\n"
     ]
    },
    {
     "name": "stdout",
     "output_type": "stream",
     "text": [
      "/class_state\n",
      "im here\n"
     ]
    },
    {
     "name": "stderr",
     "output_type": "stream",
     "text": [
      "10.0.0.23 - - [06/Dec/2020 08:54:26] \"GET /class_state HTTP/1.1\" 200 -\n"
     ]
    },
    {
     "name": "stdout",
     "output_type": "stream",
     "text": [
      "/class_state\n",
      "im here\n"
     ]
    },
    {
     "name": "stderr",
     "output_type": "stream",
     "text": [
      "10.0.0.23 - - [06/Dec/2020 08:54:36] \"GET /class_state HTTP/1.1\" 200 -\n"
     ]
    },
    {
     "name": "stdout",
     "output_type": "stream",
     "text": [
      "/class_state\n",
      "im here\n"
     ]
    },
    {
     "name": "stderr",
     "output_type": "stream",
     "text": [
      "10.0.0.23 - - [06/Dec/2020 08:54:46] \"GET /class_state HTTP/1.1\" 200 -\n"
     ]
    },
    {
     "name": "stdout",
     "output_type": "stream",
     "text": [
      "/class_state\n",
      "im here\n"
     ]
    },
    {
     "name": "stderr",
     "output_type": "stream",
     "text": [
      "10.0.0.23 - - [06/Dec/2020 08:54:56] \"GET /class_state HTTP/1.1\" 200 -\n"
     ]
    },
    {
     "name": "stdout",
     "output_type": "stream",
     "text": [
      "/class_state\n",
      "im here\n"
     ]
    },
    {
     "name": "stderr",
     "output_type": "stream",
     "text": [
      "10.0.0.23 - - [06/Dec/2020 08:55:06] \"GET /class_state HTTP/1.1\" 200 -\n"
     ]
    },
    {
     "name": "stdout",
     "output_type": "stream",
     "text": [
      "/class_state\n",
      "im here\n"
     ]
    },
    {
     "name": "stderr",
     "output_type": "stream",
     "text": [
      "10.0.0.23 - - [06/Dec/2020 08:55:16] \"GET /class_state HTTP/1.1\" 200 -\n"
     ]
    },
    {
     "name": "stdout",
     "output_type": "stream",
     "text": [
      "/class_state\n",
      "im here\n"
     ]
    },
    {
     "name": "stderr",
     "output_type": "stream",
     "text": [
      "10.0.0.23 - - [06/Dec/2020 08:55:26] \"GET /class_state HTTP/1.1\" 200 -\n"
     ]
    },
    {
     "name": "stdout",
     "output_type": "stream",
     "text": [
      "/class_state\n",
      "im here\n"
     ]
    },
    {
     "name": "stderr",
     "output_type": "stream",
     "text": [
      "10.0.0.23 - - [06/Dec/2020 08:55:36] \"GET /class_state HTTP/1.1\" 200 -\n"
     ]
    }
   ],
   "source": [
    "seconds = 100\n",
    "minutes = seconds/60\n",
    "seconds = seconds % 60\n",
    "import math\n",
    "if len(str(seconds)) == 1:\n",
    "    seconds = \"0\" + str(seconds)\n",
    "else:\n",
    "    seconds = str(seconds)\n",
    "time_left = f\"{math.floor(minutes)}:{seconds}\"\n",
    "time_left    "
   ]
  },
  {
   "cell_type": "code",
   "execution_count": 87,
   "metadata": {},
   "outputs": [
    {
     "data": {
      "text/plain": [
       "64"
      ]
     },
     "execution_count": 87,
     "metadata": {},
     "output_type": "execute_result"
    },
    {
     "name": "stdout",
     "output_type": "stream",
     "text": [
      "/class_state\n",
      "im here\n"
     ]
    },
    {
     "name": "stderr",
     "output_type": "stream",
     "text": [
      "10.0.0.23 - - [06/Dec/2020 08:40:36] \"GET /class_state HTTP/1.1\" 200 -\n"
     ]
    },
    {
     "name": "stdout",
     "output_type": "stream",
     "text": [
      "/class_state\n",
      "im here\n"
     ]
    },
    {
     "name": "stderr",
     "output_type": "stream",
     "text": [
      "10.0.0.23 - - [06/Dec/2020 08:40:46] \"GET /class_state HTTP/1.1\" 200 -\n"
     ]
    },
    {
     "name": "stdout",
     "output_type": "stream",
     "text": [
      "/class_state\n",
      "im here\n"
     ]
    },
    {
     "name": "stderr",
     "output_type": "stream",
     "text": [
      "10.0.0.23 - - [06/Dec/2020 08:40:56] \"GET /class_state HTTP/1.1\" 200 -\n"
     ]
    },
    {
     "name": "stdout",
     "output_type": "stream",
     "text": [
      "/class_state\n",
      "im here\n"
     ]
    },
    {
     "name": "stderr",
     "output_type": "stream",
     "text": [
      "10.0.0.23 - - [06/Dec/2020 08:41:06] \"GET /class_state HTTP/1.1\" 200 -\n"
     ]
    },
    {
     "name": "stdout",
     "output_type": "stream",
     "text": [
      "/class_state\n",
      "im here\n"
     ]
    },
    {
     "name": "stderr",
     "output_type": "stream",
     "text": [
      "10.0.0.23 - - [06/Dec/2020 08:41:16] \"GET /class_state HTTP/1.1\" 200 -\n"
     ]
    },
    {
     "name": "stdout",
     "output_type": "stream",
     "text": [
      "/class_state\n",
      "im here\n"
     ]
    },
    {
     "name": "stderr",
     "output_type": "stream",
     "text": [
      "10.0.0.23 - - [06/Dec/2020 08:41:26] \"GET /class_state HTTP/1.1\" 200 -\n"
     ]
    },
    {
     "name": "stdout",
     "output_type": "stream",
     "text": [
      "/class_state\n",
      "im here\n"
     ]
    },
    {
     "name": "stderr",
     "output_type": "stream",
     "text": [
      "10.0.0.23 - - [06/Dec/2020 08:41:36] \"GET /class_state HTTP/1.1\" 200 -\n"
     ]
    },
    {
     "name": "stdout",
     "output_type": "stream",
     "text": [
      "/class_state\n",
      "im here\n"
     ]
    },
    {
     "name": "stderr",
     "output_type": "stream",
     "text": [
      "10.0.0.23 - - [06/Dec/2020 08:41:46] \"GET /class_state HTTP/1.1\" 200 -\n"
     ]
    },
    {
     "name": "stdout",
     "output_type": "stream",
     "text": [
      "/class_state\n",
      "im here\n"
     ]
    },
    {
     "name": "stderr",
     "output_type": "stream",
     "text": [
      "10.0.0.23 - - [06/Dec/2020 08:41:56] \"GET /class_state HTTP/1.1\" 200 -\n"
     ]
    },
    {
     "name": "stdout",
     "output_type": "stream",
     "text": [
      "/class_state\n",
      "im here\n"
     ]
    },
    {
     "name": "stderr",
     "output_type": "stream",
     "text": [
      "10.0.0.23 - - [06/Dec/2020 08:42:06] \"GET /class_state HTTP/1.1\" 200 -\n"
     ]
    },
    {
     "name": "stdout",
     "output_type": "stream",
     "text": [
      "/class_state\n",
      "im here\n"
     ]
    },
    {
     "name": "stderr",
     "output_type": "stream",
     "text": [
      "10.0.0.23 - - [06/Dec/2020 08:42:16] \"GET /class_state HTTP/1.1\" 200 -\n"
     ]
    },
    {
     "name": "stdout",
     "output_type": "stream",
     "text": [
      "/class_state\n",
      "im here\n"
     ]
    },
    {
     "name": "stderr",
     "output_type": "stream",
     "text": [
      "10.0.0.23 - - [06/Dec/2020 08:42:26] \"GET /class_state HTTP/1.1\" 200 -\n"
     ]
    },
    {
     "name": "stdout",
     "output_type": "stream",
     "text": [
      "/class_state\n",
      "im here\n"
     ]
    },
    {
     "name": "stderr",
     "output_type": "stream",
     "text": [
      "10.0.0.23 - - [06/Dec/2020 08:42:36] \"GET /class_state HTTP/1.1\" 200 -\n"
     ]
    },
    {
     "name": "stdout",
     "output_type": "stream",
     "text": [
      "/class_state\n",
      "im here\n"
     ]
    },
    {
     "name": "stderr",
     "output_type": "stream",
     "text": [
      "10.0.0.23 - - [06/Dec/2020 08:42:46] \"GET /class_state HTTP/1.1\" 200 -\n"
     ]
    },
    {
     "name": "stdout",
     "output_type": "stream",
     "text": [
      "/class_state\n",
      "im here\n"
     ]
    },
    {
     "name": "stderr",
     "output_type": "stream",
     "text": [
      "10.0.0.23 - - [06/Dec/2020 08:42:56] \"GET /class_state HTTP/1.1\" 200 -\n"
     ]
    },
    {
     "name": "stdout",
     "output_type": "stream",
     "text": [
      "/class_state\n",
      "im here\n"
     ]
    },
    {
     "name": "stderr",
     "output_type": "stream",
     "text": [
      "10.0.0.23 - - [06/Dec/2020 08:43:06] \"GET /class_state HTTP/1.1\" 200 -\n"
     ]
    },
    {
     "name": "stdout",
     "output_type": "stream",
     "text": [
      "/class_state\n",
      "im here\n"
     ]
    },
    {
     "name": "stderr",
     "output_type": "stream",
     "text": [
      "10.0.0.23 - - [06/Dec/2020 08:43:16] \"GET /class_state HTTP/1.1\" 200 -\n"
     ]
    },
    {
     "name": "stdout",
     "output_type": "stream",
     "text": [
      "/class_state\n",
      "im here\n"
     ]
    },
    {
     "name": "stderr",
     "output_type": "stream",
     "text": [
      "10.0.0.23 - - [06/Dec/2020 08:43:26] \"GET /class_state HTTP/1.1\" 200 -\n"
     ]
    },
    {
     "name": "stdout",
     "output_type": "stream",
     "text": [
      "/class_state\n",
      "im here\n"
     ]
    },
    {
     "name": "stderr",
     "output_type": "stream",
     "text": [
      "10.0.0.23 - - [06/Dec/2020 08:43:36] \"GET /class_state HTTP/1.1\" 200 -\n"
     ]
    },
    {
     "name": "stdout",
     "output_type": "stream",
     "text": [
      "/class_state\n",
      "im here\n"
     ]
    },
    {
     "name": "stderr",
     "output_type": "stream",
     "text": [
      "10.0.0.23 - - [06/Dec/2020 08:43:46] \"GET /class_state HTTP/1.1\" 200 -\n"
     ]
    },
    {
     "name": "stdout",
     "output_type": "stream",
     "text": [
      "/class_state\n",
      "im here\n"
     ]
    },
    {
     "name": "stderr",
     "output_type": "stream",
     "text": [
      "10.0.0.23 - - [06/Dec/2020 08:43:56] \"GET /class_state HTTP/1.1\" 200 -\n"
     ]
    },
    {
     "name": "stdout",
     "output_type": "stream",
     "text": [
      "/class_state\n",
      "im here\n"
     ]
    },
    {
     "name": "stderr",
     "output_type": "stream",
     "text": [
      "10.0.0.23 - - [06/Dec/2020 08:44:06] \"GET /class_state HTTP/1.1\" 200 -\n"
     ]
    },
    {
     "name": "stdout",
     "output_type": "stream",
     "text": [
      "/class_state\n",
      "im here\n"
     ]
    },
    {
     "name": "stderr",
     "output_type": "stream",
     "text": [
      "10.0.0.23 - - [06/Dec/2020 08:44:16] \"GET /class_state HTTP/1.1\" 200 -\n"
     ]
    },
    {
     "name": "stdout",
     "output_type": "stream",
     "text": [
      "/class_state\n",
      "im here\n"
     ]
    },
    {
     "name": "stderr",
     "output_type": "stream",
     "text": [
      "10.0.0.23 - - [06/Dec/2020 08:44:26] \"GET /class_state HTTP/1.1\" 200 -\n"
     ]
    },
    {
     "name": "stdout",
     "output_type": "stream",
     "text": [
      "/class_state\n",
      "im here\n"
     ]
    },
    {
     "name": "stderr",
     "output_type": "stream",
     "text": [
      "10.0.0.23 - - [06/Dec/2020 08:44:36] \"GET /class_state HTTP/1.1\" 200 -\n"
     ]
    },
    {
     "name": "stdout",
     "output_type": "stream",
     "text": [
      "/class_state\n",
      "im here\n"
     ]
    },
    {
     "name": "stderr",
     "output_type": "stream",
     "text": [
      "10.0.0.23 - - [06/Dec/2020 08:44:46] \"GET /class_state HTTP/1.1\" 200 -\n"
     ]
    },
    {
     "name": "stdout",
     "output_type": "stream",
     "text": [
      "/class_state\n",
      "im here\n"
     ]
    },
    {
     "name": "stderr",
     "output_type": "stream",
     "text": [
      "10.0.0.23 - - [06/Dec/2020 08:44:56] \"GET /class_state HTTP/1.1\" 200 -\n"
     ]
    },
    {
     "name": "stdout",
     "output_type": "stream",
     "text": [
      "/class_state\n",
      "im here\n"
     ]
    },
    {
     "name": "stderr",
     "output_type": "stream",
     "text": [
      "10.0.0.23 - - [06/Dec/2020 08:45:06] \"GET /class_state HTTP/1.1\" 200 -\n"
     ]
    },
    {
     "name": "stdout",
     "output_type": "stream",
     "text": [
      "/class_state\n",
      "im here\n"
     ]
    },
    {
     "name": "stderr",
     "output_type": "stream",
     "text": [
      "10.0.0.23 - - [06/Dec/2020 08:45:16] \"GET /class_state HTTP/1.1\" 200 -\n"
     ]
    },
    {
     "name": "stdout",
     "output_type": "stream",
     "text": [
      "/class_state\n",
      "im here\n"
     ]
    },
    {
     "name": "stderr",
     "output_type": "stream",
     "text": [
      "10.0.0.23 - - [06/Dec/2020 08:45:26] \"GET /class_state HTTP/1.1\" 200 -\n"
     ]
    },
    {
     "name": "stdout",
     "output_type": "stream",
     "text": [
      "/class_state\n",
      "im here\n"
     ]
    },
    {
     "name": "stderr",
     "output_type": "stream",
     "text": [
      "10.0.0.23 - - [06/Dec/2020 08:45:36] \"GET /class_state HTTP/1.1\" 200 -\n"
     ]
    },
    {
     "name": "stdout",
     "output_type": "stream",
     "text": [
      "/class_state\n",
      "im here\n"
     ]
    },
    {
     "name": "stderr",
     "output_type": "stream",
     "text": [
      "10.0.0.23 - - [06/Dec/2020 08:45:46] \"GET /class_state HTTP/1.1\" 200 -\n"
     ]
    },
    {
     "name": "stdout",
     "output_type": "stream",
     "text": [
      "/class_state\n",
      "im here\n"
     ]
    },
    {
     "name": "stderr",
     "output_type": "stream",
     "text": [
      "10.0.0.23 - - [06/Dec/2020 08:45:56] \"GET /class_state HTTP/1.1\" 200 -\n"
     ]
    },
    {
     "name": "stdout",
     "output_type": "stream",
     "text": [
      "/class_state\n",
      "im here\n"
     ]
    },
    {
     "name": "stderr",
     "output_type": "stream",
     "text": [
      "10.0.0.23 - - [06/Dec/2020 08:46:06] \"GET /class_state HTTP/1.1\" 200 -\n"
     ]
    },
    {
     "name": "stdout",
     "output_type": "stream",
     "text": [
      "/class_state\n",
      "im here\n"
     ]
    },
    {
     "name": "stderr",
     "output_type": "stream",
     "text": [
      "10.0.0.23 - - [06/Dec/2020 08:46:16] \"GET /class_state HTTP/1.1\" 200 -\n"
     ]
    },
    {
     "name": "stdout",
     "output_type": "stream",
     "text": [
      "/class_state\n",
      "im here\n"
     ]
    },
    {
     "name": "stderr",
     "output_type": "stream",
     "text": [
      "10.0.0.23 - - [06/Dec/2020 08:46:26] \"GET /class_state HTTP/1.1\" 200 -\n"
     ]
    },
    {
     "name": "stdout",
     "output_type": "stream",
     "text": [
      "/class_state\n",
      "im here\n"
     ]
    },
    {
     "name": "stderr",
     "output_type": "stream",
     "text": [
      "10.0.0.23 - - [06/Dec/2020 08:46:36] \"GET /class_state HTTP/1.1\" 200 -\n"
     ]
    },
    {
     "name": "stdout",
     "output_type": "stream",
     "text": [
      "/class_state\n",
      "im here\n"
     ]
    },
    {
     "name": "stderr",
     "output_type": "stream",
     "text": [
      "10.0.0.23 - - [06/Dec/2020 08:46:46] \"GET /class_state HTTP/1.1\" 200 -\n"
     ]
    },
    {
     "name": "stdout",
     "output_type": "stream",
     "text": [
      "/class_state\n",
      "im here\n"
     ]
    },
    {
     "name": "stderr",
     "output_type": "stream",
     "text": [
      "10.0.0.23 - - [06/Dec/2020 08:46:56] \"GET /class_state HTTP/1.1\" 200 -\n"
     ]
    },
    {
     "name": "stdout",
     "output_type": "stream",
     "text": [
      "/class_state\n",
      "im here\n"
     ]
    },
    {
     "name": "stderr",
     "output_type": "stream",
     "text": [
      "10.0.0.23 - - [06/Dec/2020 08:47:06] \"GET /class_state HTTP/1.1\" 200 -\n"
     ]
    },
    {
     "name": "stdout",
     "output_type": "stream",
     "text": [
      "/class_state\n",
      "im here\n"
     ]
    },
    {
     "name": "stderr",
     "output_type": "stream",
     "text": [
      "10.0.0.23 - - [06/Dec/2020 08:47:16] \"GET /class_state HTTP/1.1\" 200 -\n"
     ]
    },
    {
     "name": "stdout",
     "output_type": "stream",
     "text": [
      "/class_state\n",
      "im here\n"
     ]
    },
    {
     "name": "stderr",
     "output_type": "stream",
     "text": [
      "10.0.0.23 - - [06/Dec/2020 08:47:26] \"GET /class_state HTTP/1.1\" 200 -\n"
     ]
    },
    {
     "name": "stdout",
     "output_type": "stream",
     "text": [
      "/class_state\n",
      "im here\n"
     ]
    },
    {
     "name": "stderr",
     "output_type": "stream",
     "text": [
      "10.0.0.23 - - [06/Dec/2020 08:47:36] \"GET /class_state HTTP/1.1\" 200 -\n"
     ]
    }
   ],
   "source": [
    "elapsed = end - start\n",
    "elapsed.seconds"
   ]
  },
  {
   "cell_type": "code",
   "execution_count": 26,
   "metadata": {},
   "outputs": [],
   "source": [
    "cancelled = True\n",
    "thread.join()"
   ]
  },
  {
   "cell_type": "code",
   "execution_count": 29,
   "metadata": {},
   "outputs": [
    {
     "name": "stdout",
     "output_type": "stream",
     "text": [
      "class is about to start\n",
      "checking start\n",
      "07:05:00\n",
      "07:04:16.898142\n",
      "07:07:00\n",
      "checking start\n",
      "07:05:00\n",
      "07:04:17.900680\n",
      "07:07:00\n",
      "checking start\n",
      "07:05:00\n",
      "07:04:18.902874\n",
      "07:07:00\n",
      "checking start\n",
      "07:05:00\n",
      "07:04:19.904975\n",
      "07:07:00\n",
      "checking start\n",
      "07:05:00\n",
      "07:04:20.907202\n",
      "07:07:00\n",
      "checking start\n",
      "07:05:00\n",
      "07:04:21.911982\n",
      "07:07:00\n",
      "checking start\n",
      "07:05:00\n",
      "07:04:22.913854\n",
      "07:07:00\n",
      "checking start\n",
      "07:05:00\n",
      "07:04:23.915845\n",
      "07:07:00\n",
      "checking start\n",
      "07:05:00\n",
      "07:04:24.917871\n",
      "07:07:00\n",
      "checking start\n",
      "07:05:00\n",
      "07:04:25.920072\n",
      "07:07:00\n",
      "checking start\n",
      "07:05:00\n",
      "07:04:26.922227\n",
      "07:07:00\n",
      "checking start\n",
      "07:05:00\n",
      "07:04:27.924285\n",
      "07:07:00\n",
      "checking start\n",
      "07:05:00\n",
      "07:04:28.929500\n",
      "07:07:00\n",
      "checking start\n",
      "07:05:00\n",
      "07:04:29.930898\n",
      "07:07:00\n",
      "checking start\n",
      "07:05:00\n",
      "07:04:30.932211\n",
      "07:07:00\n",
      "checking start\n",
      "07:05:00\n",
      "07:04:31.934391\n",
      "07:07:00\n",
      "checking start\n",
      "07:05:00\n",
      "07:04:32.936568\n",
      "07:07:00\n",
      "checking start\n",
      "07:05:00\n",
      "07:04:33.938585\n",
      "07:07:00\n",
      "checking start\n",
      "07:05:00\n",
      "07:04:34.940712\n",
      "07:07:00\n",
      "checking start\n",
      "07:05:00\n",
      "07:04:35.942134\n",
      "07:07:00\n",
      "checking start\n",
      "07:05:00\n",
      "07:04:36.944161\n",
      "07:07:00\n",
      "checking start\n",
      "07:05:00\n",
      "07:04:37.946274\n",
      "07:07:00\n",
      "checking start\n",
      "07:05:00\n",
      "07:04:38.948278\n",
      "07:07:00\n",
      "checking start\n",
      "07:05:00\n",
      "07:04:39.954384\n",
      "07:07:00\n",
      "checking start\n",
      "07:05:00\n",
      "07:04:40.956422\n",
      "07:07:00\n",
      "checking start\n",
      "07:05:00\n",
      "07:04:41.958379\n",
      "07:07:00\n",
      "checking start\n",
      "07:05:00\n",
      "07:04:42.960490\n",
      "07:07:00\n",
      "checking start\n",
      "07:05:00\n",
      "07:04:43.962596\n",
      "07:07:00\n",
      "checking start\n",
      "07:05:00\n",
      "07:04:44.964776\n",
      "07:07:00\n",
      "checking start\n",
      "07:05:00\n",
      "07:04:45.966867\n",
      "07:07:00\n",
      "checking start\n",
      "07:05:00\n",
      "07:04:46.968525\n",
      "07:07:00\n",
      "checking start\n",
      "07:05:00\n",
      "07:04:47.970366\n",
      "07:07:00\n",
      "checking start\n",
      "07:05:00\n",
      "07:04:48.972100\n",
      "07:07:00\n",
      "checking start\n",
      "07:05:00\n",
      "07:04:49.974262\n",
      "07:07:00\n",
      "checking start\n",
      "07:05:00\n",
      "07:04:50.976354\n",
      "07:07:00\n",
      "checking start\n",
      "07:05:00\n",
      "07:04:51.977813\n",
      "07:07:00\n",
      "checking start\n",
      "07:05:00\n",
      "07:04:52.979577\n",
      "07:07:00\n",
      "checking start\n",
      "07:05:00\n",
      "07:04:53.980828\n",
      "07:07:00\n",
      "checking start\n",
      "07:05:00\n",
      "07:04:54.982272\n",
      "07:07:00\n",
      "checking start\n",
      "07:05:00\n",
      "07:04:55.983540\n",
      "07:07:00\n",
      "checking start\n",
      "07:05:00\n",
      "07:04:56.985554\n",
      "07:07:00\n",
      "checking start\n",
      "07:05:00\n",
      "07:04:57.990344\n",
      "07:07:00\n",
      "checking start\n",
      "07:05:00\n",
      "07:04:58.992076\n",
      "07:07:00\n",
      "checking start\n",
      "07:05:00\n",
      "07:04:59.994113\n",
      "07:07:00\n",
      "checking start\n",
      "07:05:00\n",
      "07:05:00.996166\n",
      "07:07:00\n",
      "class is starting\n"
     ]
    }
   ],
   "source": []
  },
  {
   "cell_type": "code",
   "execution_count": 23,
   "metadata": {},
   "outputs": [
    {
     "data": {
      "text/plain": [
       "datetime.datetime(2020, 12, 6, 7, 1, 5, 400559)"
      ]
     },
     "execution_count": 23,
     "metadata": {},
     "output_type": "execute_result"
    }
   ],
   "source": [
    "datetime.now()"
   ]
  },
  {
   "cell_type": "code",
   "execution_count": 22,
   "metadata": {},
   "outputs": [],
   "source": [
    "cancelled = True"
   ]
  },
  {
   "cell_type": "code",
   "execution_count": 4,
   "metadata": {},
   "outputs": [
    {
     "name": "stdout",
     "output_type": "stream",
     "text": [
      "False\n",
      "False\n",
      "False\n",
      "False\n",
      "False\n",
      "False\n",
      "True\n"
     ]
    }
   ],
   "source": [
    "for current_class in classes:\n",
    "    print(current_class.is_currently_in_class())"
   ]
  },
  {
   "cell_type": "code",
   "execution_count": 66,
   "metadata": {},
   "outputs": [
    {
     "data": {
      "text/plain": [
       "46"
      ]
     },
     "execution_count": 66,
     "metadata": {},
     "output_type": "execute_result"
    }
   ],
   "source": [
    "datetime.now().minute"
   ]
  },
  {
   "cell_type": "code",
   "execution_count": 3,
   "metadata": {},
   "outputs": [],
   "source": [
    "x = (1,2,3)"
   ]
  },
  {
   "cell_type": "code",
   "execution_count": 6,
   "metadata": {},
   "outputs": [
    {
     "data": {
      "text/plain": [
       "3"
      ]
     },
     "execution_count": 6,
     "metadata": {},
     "output_type": "execute_result"
    }
   ],
   "source": [
    "x[2]"
   ]
  },
  {
   "cell_type": "code",
   "execution_count": 1,
   "metadata": {},
   "outputs": [
    {
     "name": "stdout",
     "output_type": "stream",
     "text": [
      "pygame 1.9.4.post1\n",
      "Hello from the pygame community. https://www.pygame.org/contribute.html\n"
     ]
    },
    {
     "ename": "KeyboardInterrupt",
     "evalue": "",
     "output_type": "error",
     "traceback": [
      "\u001b[0;31m---------------------------------------------------------------------------\u001b[0m",
      "\u001b[0;31mKeyboardInterrupt\u001b[0m                         Traceback (most recent call last)",
      "\u001b[0;32m<ipython-input-1-5ca70805a9fd>\u001b[0m in \u001b[0;36m<module>\u001b[0;34m\u001b[0m\n\u001b[1;32m      3\u001b[0m \u001b[0mpygame\u001b[0m\u001b[0;34m.\u001b[0m\u001b[0mmixer\u001b[0m\u001b[0;34m.\u001b[0m\u001b[0mmusic\u001b[0m\u001b[0;34m.\u001b[0m\u001b[0mload\u001b[0m\u001b[0;34m(\u001b[0m\u001b[0;34m\"flight.mp3\"\u001b[0m\u001b[0;34m)\u001b[0m\u001b[0;34m\u001b[0m\u001b[0;34m\u001b[0m\u001b[0m\n\u001b[1;32m      4\u001b[0m \u001b[0mpygame\u001b[0m\u001b[0;34m.\u001b[0m\u001b[0mmixer\u001b[0m\u001b[0;34m.\u001b[0m\u001b[0mmusic\u001b[0m\u001b[0;34m.\u001b[0m\u001b[0mplay\u001b[0m\u001b[0;34m(\u001b[0m\u001b[0;34m)\u001b[0m\u001b[0;34m\u001b[0m\u001b[0;34m\u001b[0m\u001b[0m\n\u001b[0;32m----> 5\u001b[0;31m \u001b[0;32mwhile\u001b[0m \u001b[0mpygame\u001b[0m\u001b[0;34m.\u001b[0m\u001b[0mmixer\u001b[0m\u001b[0;34m.\u001b[0m\u001b[0mmusic\u001b[0m\u001b[0;34m.\u001b[0m\u001b[0mget_busy\u001b[0m\u001b[0;34m(\u001b[0m\u001b[0;34m)\u001b[0m \u001b[0;34m==\u001b[0m \u001b[0;32mTrue\u001b[0m\u001b[0;34m:\u001b[0m\u001b[0;34m\u001b[0m\u001b[0;34m\u001b[0m\u001b[0m\n\u001b[0m\u001b[1;32m      6\u001b[0m     \u001b[0;32mcontinue\u001b[0m\u001b[0;34m\u001b[0m\u001b[0;34m\u001b[0m\u001b[0m\n",
      "\u001b[0;31mKeyboardInterrupt\u001b[0m: "
     ]
    }
   ],
   "source": [
    "\n",
    "while pygame.mixer.music.get_busy() == True:\n",
    "    continue"
   ]
  },
  {
   "cell_type": "code",
   "execution_count": null,
   "metadata": {},
   "outputs": [],
   "source": []
  }
 ],
 "metadata": {
  "kernelspec": {
   "display_name": "Python 3",
   "language": "python",
   "name": "python3"
  },
  "language_info": {
   "codemirror_mode": {
    "name": "ipython",
    "version": 3
   },
   "file_extension": ".py",
   "mimetype": "text/x-python",
   "name": "python",
   "nbconvert_exporter": "python",
   "pygments_lexer": "ipython3",
   "version": "3.7.3"
  }
 },
 "nbformat": 4,
 "nbformat_minor": 4
}
